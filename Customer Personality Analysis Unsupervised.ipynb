{
 "cells": [
  {
   "cell_type": "markdown",
   "id": "0837c33e",
   "metadata": {},
   "source": [
    "# Import Modules"
   ]
  },
  {
   "cell_type": "code",
   "execution_count": 2,
   "id": "9ad85a43",
   "metadata": {},
   "outputs": [],
   "source": [
    "import pandas as pd\n",
    "import numpy as np\n",
    "import matplotlib.pyplot as plt\n",
    "import seaborn as sns\n",
    "from sklearn.impute import KNNImputer\n",
    "from scipy import stats\n",
    "from sklearn.preprocessing import PowerTransformer, QuantileTransformer, LabelEncoder, OrdinalEncoder, OneHotEncoder\n",
    "from sklearn.model_selection import train_test_split\n",
    "from sklearn.preprocessing import MinMaxScaler,StandardScaler\n",
    "import warnings\n",
    "warnings.filterwarnings('ignore')\n",
    "from sklearn.feature_selection import VarianceThreshold\n",
    "from sklearn.decomposition import PCA\n",
    "from sklearn.metrics import silhouette_score, calinski_harabasz_score, davies_bouldin_score, adjusted_rand_score\n",
    "from sklearn.cluster import KMeans,DBSCAN,MeanShift,SpectralClustering,AgglomerativeClustering\n",
    "from scipy.cluster.hierarchy import dendrogram, linkage\n",
    "from sklearn.impute import SimpleImputer, KNNImputer\n",
    "from imblearn.combine import SMOTETomek\n",
    "from imblearn.over_sampling import SMOTENC,SMOTE\n",
    "from mlxtend.preprocessing import TransactionEncoder\n",
    "from mlxtend.frequent_patterns import apriori, association_rules\n",
    "import matplotlib.cm as cm\n",
    "from yellowbrick.cluster import SilhouetteVisualizer\n",
    "from sklearn.metrics import silhouette_samples, silhouette_score\n",
    "import tensorflow.keras"
   ]
  },
  {
   "cell_type": "markdown",
   "id": "aaa1d563",
   "metadata": {},
   "source": [
    "# Data Ingestion"
   ]
  },
  {
   "cell_type": "code",
   "execution_count": null,
   "id": "4e7c22b4",
   "metadata": {},
   "outputs": [],
   "source": [
    "customer_df=pd.read_csv(r\"customer_segmentation.csv\")\n",
    "customer_df"
   ]
  },
  {
   "cell_type": "markdown",
   "id": "0f72c06f",
   "metadata": {},
   "source": [
    "# EDA"
   ]
  },
  {
   "cell_type": "markdown",
   "id": "2b591883",
   "metadata": {},
   "source": [
    "### Data Info"
   ]
  },
  {
   "cell_type": "code",
   "execution_count": null,
   "id": "b1024392",
   "metadata": {},
   "outputs": [],
   "source": [
    "customer_df.info()"
   ]
  },
  {
   "cell_type": "code",
   "execution_count": null,
   "id": "9eb46ead",
   "metadata": {},
   "outputs": [],
   "source": [
    "duplicate=customer_df.duplicated().sum()\n",
    "duplicate[duplicate>0]"
   ]
  },
  {
   "cell_type": "markdown",
   "id": "aac10a2c",
   "metadata": {},
   "source": [
    "### Statistical Info"
   ]
  },
  {
   "cell_type": "code",
   "execution_count": null,
   "id": "bba32e16",
   "metadata": {},
   "outputs": [],
   "source": [
    "customer_df.describe()"
   ]
  },
  {
   "cell_type": "code",
   "execution_count": null,
   "id": "a5ebb039",
   "metadata": {},
   "outputs": [],
   "source": [
    "customer_df.describe(include=\"object\")"
   ]
  },
  {
   "cell_type": "code",
   "execution_count": null,
   "id": "619ead58",
   "metadata": {},
   "outputs": [],
   "source": [
    "customer_df['Dt_Customer'] = pd.to_datetime(customer_df['Dt_Customer'])\n",
    "#ustomer_df.info()"
   ]
  },
  {
   "cell_type": "markdown",
   "id": "981fb96e",
   "metadata": {},
   "source": [
    "### Analysis"
   ]
  },
  {
   "cell_type": "markdown",
   "id": "8bfea218",
   "metadata": {},
   "source": [
    "### Univariate"
   ]
  },
  {
   "cell_type": "code",
   "execution_count": null,
   "id": "f502628a",
   "metadata": {},
   "outputs": [],
   "source": [
    "fig, axes = plt.subplots(5, 5, figsize=(15, 15))\n",
    "axes = axes.flatten()\n",
    "for i, col in enumerate(customer_df.select_dtypes(include=\"number\").drop(\"ID\",axis=1).columns):\n",
    "    sns.histplot(customer_df[col], ax=axes[i], kde=True)\n",
    "    axes[i].set_title(f'Distribution of {col}')\n",
    "plt.tight_layout()\n",
    "plt.show()"
   ]
  },
  {
   "cell_type": "code",
   "execution_count": null,
   "id": "ade90336",
   "metadata": {},
   "outputs": [],
   "source": [
    "fig, axes = plt.subplots(1, 3, figsize=(10, 3))\n",
    "axes = axes.flatten()\n",
    "for i,col in enumerate(customer_df.select_dtypes(include=\"object\").columns):\n",
    "    customer_df[col].value_counts(ascending = False).head(20).plot(kind = 'bar',ax=axes[i])\n",
    "    #sns.countplot(credit_df[col], ax=axes[i])\n",
    "    axes[i].set_title(f'Count of {col}')\n",
    "    #axes[i].tick_params(axis='x', rotation=45) \n",
    "plt.tight_layout()\n",
    "plt.show()"
   ]
  },
  {
   "cell_type": "markdown",
   "id": "708039b2",
   "metadata": {},
   "source": [
    "### Bivariate"
   ]
  },
  {
   "cell_type": "code",
   "execution_count": null,
   "id": "82ed23b3",
   "metadata": {},
   "outputs": [],
   "source": [
    "fig,axes=plt.subplots(3,3,figsize=(15,15))\n",
    "axes = axes.flatten()\n",
    "sns.scatterplot(data=customer_df,x=\"Income\",y='MntMeatProducts',ax=axes[0])\n",
    "sns.scatterplot(data=customer_df,x=\"Income\",y='MntFishProducts',ax=axes[1])\n",
    "sns.scatterplot(data=customer_df,x=\"Income\",y='MntGoldProds',ax=axes[2])\n",
    "sns.scatterplot(data=customer_df,x=\"Income\",y='NumDealsPurchases',ax=axes[3])\n",
    "sns.scatterplot(data=customer_df,x=\"Income\",y='NumWebPurchases',ax=axes[4])\n",
    "sns.scatterplot(data=customer_df,x=\"Income\",y='NumCatalogPurchases',ax=axes[5])\n",
    "sns.scatterplot(data=customer_df,x=\"Income\",y='MntSweetProducts',ax=axes[6])\n",
    "sns.scatterplot(data=customer_df,x=\"Income\",y='MntWines',ax=axes[7])\n",
    "sns.scatterplot(data=customer_df,x=\"Income\",y='MntFruits',ax=axes[8])\n",
    "plt.tight_layout()\n",
    "plt.show()"
   ]
  },
  {
   "cell_type": "code",
   "execution_count": null,
   "id": "b3238fd8",
   "metadata": {},
   "outputs": [],
   "source": [
    "fig,axes=plt.subplots(3,3,figsize=(15,15))\n",
    "axes = axes.flatten()\n",
    "sns.scatterplot(data=customer_df,x=\"Z_CostContact\",y='NumWebVisitsMonth',ax=axes[0])\n",
    "sns.scatterplot(data=customer_df,x=\"Z_CostContact\",y='NumStorePurchases',ax=axes[1])\n",
    "sns.scatterplot(data=customer_df,x=\"Z_CostContact\",y='Response',ax=axes[2])\n",
    "sns.scatterplot(data=customer_df,x=\"Z_CostContact\",y='NumDealsPurchases',ax=axes[3])\n",
    "sns.scatterplot(data=customer_df,x=\"Z_CostContact\",y='NumWebPurchases',ax=axes[4])\n",
    "sns.scatterplot(data=customer_df,x=\"Z_CostContact\",y='NumCatalogPurchases',ax=axes[5])\n",
    "sns.scatterplot(data=customer_df,x=\"Z_CostContact\",y='MntSweetProducts',ax=axes[6])\n",
    "sns.scatterplot(data=customer_df,x=\"Z_CostContact\",y='MntWines',ax=axes[7])\n",
    "sns.scatterplot(data=customer_df,x=\"Z_CostContact\",y='MntFruits',ax=axes[8])\n",
    "plt.tight_layout()\n",
    "plt.show()"
   ]
  },
  {
   "cell_type": "markdown",
   "id": "32c6cc2a",
   "metadata": {},
   "source": [
    "### Multivariate"
   ]
  },
  {
   "cell_type": "code",
   "execution_count": null,
   "id": "34768495",
   "metadata": {},
   "outputs": [],
   "source": [
    "fig,axes=plt.subplots(3,3,figsize=(15,15))\n",
    "axes = axes.flatten()\n",
    "sns.scatterplot(data=customer_df,x=\"Income\",y='MntMeatProducts',hue=\"Education\",ax=axes[0])\n",
    "sns.scatterplot(data=customer_df,x=\"Income\",y='MntFishProducts',hue=\"Education\",ax=axes[1])\n",
    "sns.scatterplot(data=customer_df,x=\"Income\",y='MntGoldProds',hue=\"Education\",ax=axes[2])\n",
    "sns.scatterplot(data=customer_df,x=\"Income\",y='NumDealsPurchases',hue=\"Education\",ax=axes[3])\n",
    "sns.scatterplot(data=customer_df,x=\"Income\",y='NumWebPurchases',hue=\"Education\",ax=axes[4])\n",
    "sns.scatterplot(data=customer_df,x=\"Income\",y='NumCatalogPurchases',hue=\"Education\",ax=axes[5])\n",
    "sns.scatterplot(data=customer_df,x=\"Income\",y='MntSweetProducts',hue=\"Education\",ax=axes[6])\n",
    "sns.scatterplot(data=customer_df,x=\"Income\",y='MntWines',hue=\"Education\",ax=axes[7])\n",
    "sns.scatterplot(data=customer_df,x=\"Income\",y='MntFruits',hue=\"Education\",ax=axes[8])\n",
    "plt.tight_layout()\n",
    "plt.show()"
   ]
  },
  {
   "cell_type": "code",
   "execution_count": null,
   "id": "9a032f3c",
   "metadata": {},
   "outputs": [],
   "source": [
    "fig,axes=plt.subplots(3,3,figsize=(15,15))\n",
    "axes = axes.flatten()\n",
    "sns.scatterplot(data=customer_df,x=\"Income\",y='MntMeatProducts',hue=\"Marital_Status\",ax=axes[0])\n",
    "sns.scatterplot(data=customer_df,x=\"Income\",y='MntFishProducts',hue=\"Marital_Status\",ax=axes[1])\n",
    "sns.scatterplot(data=customer_df,x=\"Income\",y='MntGoldProds',hue=\"Marital_Status\",ax=axes[2])\n",
    "sns.scatterplot(data=customer_df,x=\"Income\",y='NumDealsPurchases',hue=\"Marital_Status\",ax=axes[3])\n",
    "sns.scatterplot(data=customer_df,x=\"Income\",y='NumWebPurchases',hue=\"Marital_Status\",ax=axes[4])\n",
    "sns.scatterplot(data=customer_df,x=\"Income\",y='NumCatalogPurchases',hue=\"Marital_Status\",ax=axes[5])\n",
    "sns.scatterplot(data=customer_df,x=\"Income\",y='MntSweetProducts',hue=\"Marital_Status\",ax=axes[6])\n",
    "sns.scatterplot(data=customer_df,x=\"Income\",y='MntWines',hue=\"Marital_Status\",ax=axes[7])\n",
    "sns.scatterplot(data=customer_df,x=\"Income\",y='MntFruits',hue=\"Marital_Status\",ax=axes[8])\n",
    "plt.tight_layout()\n",
    "plt.show()"
   ]
  },
  {
   "cell_type": "code",
   "execution_count": null,
   "id": "041d3221",
   "metadata": {},
   "outputs": [],
   "source": [
    "plt.figure(figsize=(30,20))\n",
    "sns.heatmap(customer_df.select_dtypes(include=\"number\").corr(),annot=True)\n",
    "plt.show()"
   ]
  },
  {
   "cell_type": "markdown",
   "id": "8069d03e",
   "metadata": {},
   "source": [
    "### Outlier Detection"
   ]
  },
  {
   "cell_type": "code",
   "execution_count": null,
   "id": "22f1706a",
   "metadata": {},
   "outputs": [],
   "source": [
    "fig, axes = plt.subplots(5, 5, figsize=(20, 10))\n",
    "axes = axes.flatten()\n",
    "for i, col in enumerate(customer_df.select_dtypes(include=\"number\").drop(\"ID\",axis=1).columns):\n",
    "    sns.boxplot(customer_df[col], ax=axes[i])\n",
    "    axes[i].set_title(f'Outlier Detection of {col}')\n",
    "plt.tight_layout()\n",
    "plt.show()"
   ]
  },
  {
   "cell_type": "markdown",
   "id": "12e18031",
   "metadata": {},
   "source": [
    "### Null Value Detection"
   ]
  },
  {
   "cell_type": "code",
   "execution_count": null,
   "id": "d22e3987",
   "metadata": {},
   "outputs": [],
   "source": [
    "null=customer_df_reduce.isnull().sum()\n",
    "null[null>0]"
   ]
  },
  {
   "cell_type": "markdown",
   "id": "8290670a",
   "metadata": {},
   "source": [
    "### Preprocessing"
   ]
  },
  {
   "cell_type": "code",
   "execution_count": null,
   "id": "3f3d874e",
   "metadata": {},
   "outputs": [],
   "source": [
    "customer_df.drop([\"ID\"],axis=1,inplace=True)"
   ]
  },
  {
   "cell_type": "code",
   "execution_count": null,
   "id": "e5f541db",
   "metadata": {},
   "outputs": [],
   "source": [
    "customer_df.drop([\"Z_Revenue\",\"Z_CostContact\"],axis=1,inplace=True)"
   ]
  },
  {
   "cell_type": "markdown",
   "id": "d48c4ef1",
   "metadata": {},
   "source": [
    "# Feature Engineering"
   ]
  },
  {
   "cell_type": "markdown",
   "id": "e46fdd0c",
   "metadata": {},
   "source": [
    "### Outlier Handling"
   ]
  },
  {
   "cell_type": "code",
   "execution_count": null,
   "id": "f1823983",
   "metadata": {},
   "outputs": [],
   "source": [
    "def handle_outlier(df,col):\n",
    "    q1=df[col].quantile(0.25)\n",
    "    q3=df[col].quantile(0.75)\n",
    "    iqr=q3-q1\n",
    "    l=q1-1.5*iqr\n",
    "    u=q3+1.5*iqr\n",
    "    df[col]=df[col].clip(l,u)"
   ]
  },
  {
   "cell_type": "code",
   "execution_count": null,
   "id": "33d761b0",
   "metadata": {},
   "outputs": [],
   "source": [
    "for col in customer_df.drop([\"AcceptedCmp3\",\"AcceptedCmp4\",\"AcceptedCmp5\",\"AcceptedCmp1\",\"AcceptedCmp2\",\"Complain\",\"Response\"],axis=1).select_dtypes(include=\"number\").columns:\n",
    "    #print(col)\n",
    "    handle_outlier(customer_df,col)"
   ]
  },
  {
   "cell_type": "markdown",
   "id": "3cfd8ee3",
   "metadata": {},
   "source": [
    "### Null Value Handling"
   ]
  },
  {
   "cell_type": "code",
   "execution_count": null,
   "id": "54d23aa5",
   "metadata": {},
   "outputs": [],
   "source": [
    "knn_imputer = KNNImputer(n_neighbors=20)\n",
    "customer_df[\"Income\"]=knn_imputer.fit_transform(customer_df[[\"Income\"]])"
   ]
  },
  {
   "cell_type": "markdown",
   "id": "07febeab",
   "metadata": {},
   "source": [
    "### Data Transformation"
   ]
  },
  {
   "cell_type": "code",
   "execution_count": null,
   "id": "99bff28e",
   "metadata": {},
   "outputs": [],
   "source": [
    "fig, axes = plt.subplots(5, 5, figsize=(15, 15))\n",
    "axes = axes.flatten()\n",
    "for i, col in enumerate(customer_df.select_dtypes(include=\"number\").columns):\n",
    "    sns.histplot(customer_df[col], ax=axes[i], kde=True)\n",
    "    axes[i].set_title(f'Distribution of {col}')\n",
    "plt.tight_layout()\n",
    "plt.show()"
   ]
  },
  {
   "cell_type": "markdown",
   "id": "67c80e1a",
   "metadata": {},
   "source": [
    "##### Right-Skew"
   ]
  },
  {
   "cell_type": "code",
   "execution_count": null,
   "id": "6df423d7",
   "metadata": {},
   "outputs": [],
   "source": [
    "right_skew=[\"MntWines\",\"MntFruits\",\"MntMeatProducts\",\"MntFishProducts\",\"MntSweetProducts\",\"MntGoldProds\",\"Z_CostContact\",\n",
    "            \"Z_Revenue\"]\n",
    "pt=PowerTransformer(method=\"yeo-johnson\")\n",
    "quantile = QuantileTransformer(output_distribution='normal', random_state=0)"
   ]
  },
  {
   "cell_type": "code",
   "execution_count": null,
   "id": "473ee68d",
   "metadata": {},
   "outputs": [],
   "source": [
    "fig, axes = plt.subplots(2,4, figsize=(10, 5))\n",
    "sns.distplot(customer_df[\"MntWines\"],ax=axes[0,0]).set_title('Original of MntWines')\n",
    "sns.distplot(np.log(customer_df[\"MntWines\"]+0.0001),ax=axes[0,1]).set_title('Log')\n",
    "sns.distplot(np.sqrt(customer_df[\"MntWines\"]),ax=axes[0,2]).set_title('Square Root')\n",
    "sns.distplot(np.cbrt(customer_df[\"MntWines\"]),ax=axes[0,3]).set_title('Cube Root')\n",
    "sns.distplot(1/(customer_df[\"MntWines\"]+1),ax=axes[1,0]).set_title('Reciprocal')\n",
    "box_cox_dfz,_=stats.boxcox(customer_df[\"MntWines\"]+1)\n",
    "sns.distplot(box_cox_dfz,ax=axes[1,1]).set_title('Box-Cox')\n",
    "yoe_dfz=pt.fit_transform(customer_df[[\"MntWines\"]])\n",
    "sns.distplot(yoe_dfz,ax=axes[1,2]).set_title('Yeo-Johnson')\n",
    "quantile_dfz=quantile.fit_transform(pd.DataFrame(customer_df[\"MntWines\"]))\n",
    "sns.distplot(quantile_dfz,ax=axes[1,3]).set_title('Quantile')\n",
    "plt.tight_layout()\n",
    "plt.show()"
   ]
  },
  {
   "cell_type": "code",
   "execution_count": null,
   "id": "63b7ff68",
   "metadata": {},
   "outputs": [],
   "source": [
    "customer_df[\"MntWines\"]=np.cbrt(customer_df[\"MntWines\"])"
   ]
  },
  {
   "cell_type": "code",
   "execution_count": null,
   "id": "f5619c29",
   "metadata": {},
   "outputs": [],
   "source": [
    "fig, axes = plt.subplots(2,4, figsize=(10, 5))\n",
    "sns.distplot(customer_df[\"MntFruits\"],ax=axes[0,0]).set_title('Original of MntFruits')\n",
    "sns.distplot(np.log(customer_df[\"MntFruits\"]+0.0001),ax=axes[0,1]).set_title('Log')\n",
    "sns.distplot(np.sqrt(customer_df[\"MntFruits\"]),ax=axes[0,2]).set_title('Square Root')\n",
    "sns.distplot(np.cbrt(customer_df[\"MntFruits\"]),ax=axes[0,3]).set_title('Cube Root')\n",
    "sns.distplot(1/(customer_df[\"MntFruits\"]+1),ax=axes[1,0]).set_title('Reciprocal')\n",
    "box_cox_dfz,_=stats.boxcox(customer_df[\"MntFruits\"]+1)\n",
    "sns.distplot(box_cox_dfz,ax=axes[1,1]).set_title('Box-Cox')\n",
    "yoe_dfz=pt.fit_transform(customer_df[[\"MntFruits\"]])\n",
    "sns.distplot(yoe_dfz,ax=axes[1,2]).set_title('Yeo-Johnson')\n",
    "quantile_dfz=quantile.fit_transform(pd.DataFrame(customer_df[\"MntFruits\"]))\n",
    "sns.distplot(quantile_dfz,ax=axes[1,3]).set_title('Quantile')\n",
    "plt.tight_layout()\n",
    "plt.show()"
   ]
  },
  {
   "cell_type": "code",
   "execution_count": null,
   "id": "a802588e",
   "metadata": {},
   "outputs": [],
   "source": [
    "box_cox_dfz,_=stats.boxcox(customer_df[\"MntFruits\"]+1)\n",
    "customer_df[\"MntFruits\"]=box_cox_dfz"
   ]
  },
  {
   "cell_type": "code",
   "execution_count": null,
   "id": "308ba33b",
   "metadata": {},
   "outputs": [],
   "source": [
    "fig, axes = plt.subplots(2,4, figsize=(10, 5))\n",
    "sns.distplot(customer_df[\"MntMeatProducts\"],ax=axes[0,0]).set_title('Original of MntMeatProducts')\n",
    "sns.distplot(np.log(customer_df[\"MntMeatProducts\"]+0.0001),ax=axes[0,1]).set_title('Log')\n",
    "sns.distplot(np.sqrt(customer_df[\"MntMeatProducts\"]),ax=axes[0,2]).set_title('Square Root')\n",
    "sns.distplot(np.cbrt(customer_df[\"MntMeatProducts\"]),ax=axes[0,3]).set_title('Cube Root')\n",
    "sns.distplot(1/(customer_df[\"MntMeatProducts\"]+1),ax=axes[1,0]).set_title('Reciprocal')\n",
    "box_cox_dfz,_=stats.boxcox(customer_df[\"MntMeatProducts\"]+1)\n",
    "sns.distplot(box_cox_dfz,ax=axes[1,1]).set_title('Box-Cox')\n",
    "yoe_dfz=pt.fit_transform(customer_df[[\"MntMeatProducts\"]])\n",
    "sns.distplot(yoe_dfz,ax=axes[1,2]).set_title('Yeo-Johnson')\n",
    "quantile_dfz=quantile.fit_transform(pd.DataFrame(customer_df[\"MntMeatProducts\"]))\n",
    "sns.distplot(quantile_dfz,ax=axes[1,3]).set_title('Quantile')\n",
    "plt.tight_layout()\n",
    "plt.show()"
   ]
  },
  {
   "cell_type": "code",
   "execution_count": null,
   "id": "6a32dc3c",
   "metadata": {},
   "outputs": [],
   "source": [
    "box_cox_dfz,_=stats.boxcox(customer_df[\"MntMeatProducts\"]+1)\n",
    "customer_df[\"MntMeatProducts\"]=box_cox_dfz"
   ]
  },
  {
   "cell_type": "code",
   "execution_count": null,
   "id": "e7e4e4e7",
   "metadata": {},
   "outputs": [],
   "source": [
    "fig, axes = plt.subplots(2,4, figsize=(10, 5))\n",
    "sns.distplot(customer_df[\"MntFishProducts\"],ax=axes[0,0]).set_title('Original of MntFishProducts')\n",
    "sns.distplot(np.log(customer_df[\"MntFishProducts\"]+0.0001),ax=axes[0,1]).set_title('Log')\n",
    "sns.distplot(np.sqrt(customer_df[\"MntFishProducts\"]),ax=axes[0,2]).set_title('Square Root')\n",
    "sns.distplot(np.cbrt(customer_df[\"MntFishProducts\"]),ax=axes[0,3]).set_title('Cube Root')\n",
    "sns.distplot(1/(customer_df[\"MntFishProducts\"]+1),ax=axes[1,0]).set_title('Reciprocal')\n",
    "box_cox_dfz,_=stats.boxcox(customer_df[\"MntFishProducts\"]+1)\n",
    "sns.distplot(box_cox_dfz,ax=axes[1,1]).set_title('Box-Cox')\n",
    "yoe_dfz=pt.fit_transform(customer_df[[\"MntFishProducts\"]])\n",
    "sns.distplot(yoe_dfz,ax=axes[1,2]).set_title('Yeo-Johnson')\n",
    "quantile_dfz=quantile.fit_transform(pd.DataFrame(customer_df[\"MntFishProducts\"]))\n",
    "sns.distplot(quantile_dfz,ax=axes[1,3]).set_title('Quantile')\n",
    "plt.tight_layout()\n",
    "plt.show()"
   ]
  },
  {
   "cell_type": "code",
   "execution_count": null,
   "id": "f65b9b3d",
   "metadata": {},
   "outputs": [],
   "source": [
    "box_cox_dfz,_=stats.boxcox(customer_df[\"MntFishProducts\"]+1)\n",
    "customer_df[\"MntFishProducts\"]=box_cox_dfz"
   ]
  },
  {
   "cell_type": "code",
   "execution_count": null,
   "id": "0adf390b",
   "metadata": {},
   "outputs": [],
   "source": [
    "fig, axes = plt.subplots(2,4, figsize=(10, 5))\n",
    "sns.distplot(customer_df[\"MntSweetProducts\"],ax=axes[0,0]).set_title('Original of MntSweetProducts')\n",
    "sns.distplot(np.log(customer_df[\"MntSweetProducts\"]+0.0001),ax=axes[0,1]).set_title('Log')\n",
    "sns.distplot(np.sqrt(customer_df[\"MntSweetProducts\"]),ax=axes[0,2]).set_title('Square Root')\n",
    "sns.distplot(np.cbrt(customer_df[\"MntSweetProducts\"]),ax=axes[0,3]).set_title('Cube Root')\n",
    "sns.distplot(1/(customer_df[\"MntSweetProducts\"]+1),ax=axes[1,0]).set_title('Reciprocal')\n",
    "box_cox_dfz,_=stats.boxcox(customer_df[\"MntSweetProducts\"]+1)\n",
    "sns.distplot(box_cox_dfz,ax=axes[1,1]).set_title('Box-Cox')\n",
    "yoe_dfz=pt.fit_transform(customer_df[[\"MntSweetProducts\"]])\n",
    "sns.distplot(yoe_dfz,ax=axes[1,2]).set_title('Yeo-Johnson')\n",
    "quantile_dfz=quantile.fit_transform(pd.DataFrame(customer_df[\"MntSweetProducts\"]))\n",
    "sns.distplot(quantile_dfz,ax=axes[1,3]).set_title('Quantile')\n",
    "plt.tight_layout()\n",
    "plt.show()"
   ]
  },
  {
   "cell_type": "code",
   "execution_count": null,
   "id": "b3bd5182",
   "metadata": {},
   "outputs": [],
   "source": [
    "box_cox_dfz,_=stats.boxcox(customer_df[\"MntSweetProducts\"]+1)\n",
    "customer_df[\"MntSweetProducts\"]=box_cox_dfz"
   ]
  },
  {
   "cell_type": "code",
   "execution_count": null,
   "id": "134b6d96",
   "metadata": {},
   "outputs": [],
   "source": [
    "fig, axes = plt.subplots(2,4, figsize=(10, 5))\n",
    "sns.distplot(customer_df[\"MntGoldProds\"],ax=axes[0,0]).set_title('Original of MntGoldProds')\n",
    "sns.distplot(np.log(customer_df[\"MntGoldProds\"]+0.0001),ax=axes[0,1]).set_title('Log')\n",
    "sns.distplot(np.sqrt(customer_df[\"MntGoldProds\"]),ax=axes[0,2]).set_title('Square Root')\n",
    "sns.distplot(np.cbrt(customer_df[\"MntGoldProds\"]),ax=axes[0,3]).set_title('Cube Root')\n",
    "sns.distplot(1/(customer_df[\"MntGoldProds\"]+1),ax=axes[1,0]).set_title('Reciprocal')\n",
    "box_cox_dfz,_=stats.boxcox(customer_df[\"MntGoldProds\"]+1)\n",
    "sns.distplot(box_cox_dfz,ax=axes[1,1]).set_title('Box-Cox')\n",
    "yoe_dfz=pt.fit_transform(customer_df[[\"MntGoldProds\"]])\n",
    "sns.distplot(yoe_dfz,ax=axes[1,2]).set_title('Yeo-Johnson')\n",
    "quantile_dfz=quantile.fit_transform(pd.DataFrame(customer_df[\"MntGoldProds\"]))\n",
    "sns.distplot(quantile_dfz,ax=axes[1,3]).set_title('Quantile')\n",
    "plt.tight_layout()\n",
    "plt.show()"
   ]
  },
  {
   "cell_type": "code",
   "execution_count": null,
   "id": "ca8a689f",
   "metadata": {},
   "outputs": [],
   "source": [
    "box_cox_dfz,_=stats.boxcox(customer_df[\"MntGoldProds\"]+1)\n",
    "customer_df[\"MntGoldProds\"]=box_cox_dfz"
   ]
  },
  {
   "cell_type": "markdown",
   "id": "cc4c1536",
   "metadata": {},
   "source": [
    "### Encoding"
   ]
  },
  {
   "cell_type": "markdown",
   "id": "e78d400e",
   "metadata": {},
   "source": [
    "##### Label Encoding"
   ]
  },
  {
   "cell_type": "code",
   "execution_count": null,
   "id": "2c2fee7e",
   "metadata": {},
   "outputs": [],
   "source": [
    "le=LabelEncoder()\n",
    "customer_df.Marital_Status=le.fit_transform(customer_df.Marital_Status)"
   ]
  },
  {
   "cell_type": "markdown",
   "id": "46715ae7",
   "metadata": {},
   "source": [
    "##### Ordinal Encoding"
   ]
  },
  {
   "cell_type": "code",
   "execution_count": null,
   "id": "2ff302bf",
   "metadata": {},
   "outputs": [],
   "source": [
    "oe=OrdinalEncoder(categories=[['Basic','Graduation', '2n Cycle', 'Master', 'PhD']])\n",
    "customer_df.Education=le.fit_transform(customer_df.Education)"
   ]
  },
  {
   "cell_type": "markdown",
   "id": "7b02a271",
   "metadata": {},
   "source": [
    "# Feature Selection"
   ]
  },
  {
   "cell_type": "code",
   "execution_count": null,
   "id": "ba8a9b3f",
   "metadata": {},
   "outputs": [],
   "source": [
    "customer_df_reduce=customer_df.drop([\"Dt_Customer\"],axis=1)"
   ]
  },
  {
   "cell_type": "markdown",
   "id": "470bf92a",
   "metadata": {},
   "source": [
    "### Feature Selection using PCA"
   ]
  },
  {
   "cell_type": "code",
   "execution_count": null,
   "id": "9599bc42",
   "metadata": {},
   "outputs": [],
   "source": [
    "pca = PCA(n_components=23)\n",
    "customer_df_reduce_pca = pca.fit_transform(customer_df_reduce)\n",
    "customer_reduce_pca_df=pd.DataFrame(customer_df_reduce_pca)\n",
    "customer_reduce_pca_df"
   ]
  },
  {
   "cell_type": "code",
   "execution_count": null,
   "id": "6198f23f",
   "metadata": {},
   "outputs": [],
   "source": [
    "explained_var_ratio = pca.explained_variance_ratio_\n",
    "cumulative_var_ratio = np.cumsum(explained_var_ratio)\n",
    "cumulative_var_ratio"
   ]
  },
  {
   "cell_type": "markdown",
   "id": "a3e0dceb",
   "metadata": {},
   "source": [
    "### Feature Selection using Variance Threshold (VarianceThreshold)"
   ]
  },
  {
   "cell_type": "code",
   "execution_count": null,
   "id": "accd371d",
   "metadata": {},
   "outputs": [],
   "source": [
    "vt = VarianceThreshold(threshold=0.1)\n",
    "customer_df_reduce_vt = vt.fit_transform(customer_df_reduce)\n",
    "selected_features_mask_vt = vt.get_support()\n",
    "selected_features_vt = customer_df_reduce.columns[selected_features_mask_vt]\n",
    "customer_reduce_vt_df = pd.DataFrame(customer_df_reduce[selected_features_vt])\n",
    "customer_reduce_vt_df"
   ]
  },
  {
   "cell_type": "markdown",
   "id": "aaa8ec90",
   "metadata": {},
   "source": [
    "# Scaling"
   ]
  },
  {
   "cell_type": "code",
   "execution_count": null,
   "id": "37463aab",
   "metadata": {},
   "outputs": [],
   "source": [
    "minmax=MinMaxScaler()"
   ]
  },
  {
   "cell_type": "markdown",
   "id": "eff5bf84",
   "metadata": {},
   "source": [
    "### Scaling for Features Selected using Variance Threshold (VarianceThreshold)"
   ]
  },
  {
   "cell_type": "code",
   "execution_count": null,
   "id": "0d355be6",
   "metadata": {},
   "outputs": [],
   "source": [
    "customer_reduce_vt_df_scale=minmax.fit_transform(customer_reduce_vt_df)\n",
    "customer_reduce_vt_df_scale"
   ]
  },
  {
   "cell_type": "markdown",
   "id": "5fcef166",
   "metadata": {},
   "source": [
    "### Scaling for Features Selected using PCA"
   ]
  },
  {
   "cell_type": "code",
   "execution_count": null,
   "id": "a24b652a",
   "metadata": {},
   "outputs": [],
   "source": [
    "customer_reduce_pca_df_scale=minmax.fit_transform(customer_reduce_pca_df)\n",
    "customer_reduce_pca_df_scale"
   ]
  },
  {
   "cell_type": "markdown",
   "id": "f7673836",
   "metadata": {},
   "source": [
    "# Model Training and Evaluation"
   ]
  },
  {
   "cell_type": "markdown",
   "id": "873cf270",
   "metadata": {},
   "source": [
    "### KMeans"
   ]
  },
  {
   "cell_type": "markdown",
   "id": "08a1aa8e",
   "metadata": {},
   "source": [
    "##### Variance Threshold"
   ]
  },
  {
   "cell_type": "code",
   "execution_count": null,
   "id": "996e10fa",
   "metadata": {},
   "outputs": [],
   "source": [
    "sse = []\n",
    "for k in range(1,11):\n",
    "    km = KMeans(n_clusters=k, random_state=2)\n",
    "    km.fit(customer_reduce_vt_df_scale)\n",
    "    sse.append(km.inertia_)\n",
    "sns.set_style(\"whitegrid\")\n",
    "g=sns.lineplot(x=range(1,11), y=sse)\n",
    "g.set(xlabel =\"Number of cluster (k)\", ylabel = \"Sum Squared Error\", title ='Elbow Method')\n",
    "plt.show()"
   ]
  },
  {
   "cell_type": "code",
   "execution_count": null,
   "id": "1a95ce30",
   "metadata": {},
   "outputs": [],
   "source": [
    "kmeans = KMeans(n_clusters = 2, random_state = 2)\n",
    "kmeans.fit(customer_reduce_vt_df_scale)\n",
    "customer_reduce_vt_df_scale_pred_1 = kmeans.fit_predict(customer_reduce_vt_df_scale)\n",
    "customer_reduce_vt_df_scale_pred_1"
   ]
  },
  {
   "cell_type": "code",
   "execution_count": null,
   "id": "138425b0",
   "metadata": {},
   "outputs": [],
   "source": [
    "print(\"Silhouette Score: \",silhouette_score(customer_reduce_vt_df_scale_pred_1.reshape(-1, 1), kmeans.labels_))\n",
    "print(\"Calinski-Harabasz Index: \",calinski_harabasz_score(customer_reduce_vt_df_scale_pred_1.reshape(-1, 1), kmeans.labels_))\n",
    "print(\"Davies-Bouldin Index: \", davies_bouldin_score(customer_reduce_vt_df_scale_pred_1.reshape(-1, 1), kmeans.labels_))"
   ]
  },
  {
   "cell_type": "code",
   "execution_count": null,
   "id": "9ab31641",
   "metadata": {},
   "outputs": [],
   "source": [
    "kmeans.n_clusters"
   ]
  },
  {
   "cell_type": "code",
   "execution_count": null,
   "id": "db126796",
   "metadata": {},
   "outputs": [],
   "source": [
    "pca = PCA(n_components=2)\n",
    "data_pca = pca.fit_transform(customer_reduce_vt_df_scale)\n",
    "plt.scatter(data_pca[:, 0], data_pca[:, 1], c=kmeans.labels_)\n",
    "centers_pca = pca.transform(kmeans.cluster_centers_)\n",
    "plt.scatter(centers_pca[:, 0], centers_pca[:, 1])\n",
    "#centers_pca = pca.fit_transform(kmeans.cluster_centers_)\n",
    "for center in centers_pca:\n",
    "    plt.scatter(center[0], center[1], marker='^', c='red', s=200, edgecolor='k')"
   ]
  },
  {
   "cell_type": "code",
   "execution_count": null,
   "id": "f9176c46",
   "metadata": {},
   "outputs": [],
   "source": [
    "for k in range(kmeans.n_clusters):\n",
    "    my_members = kmeans.labels_ == k\n",
    "    color = cm.nipy_spectral(float(k) / kmeans.n_clusters, 2)\n",
    "    plt.plot(customer_reduce_vt_df_scale[my_members, 0], customer_reduce_vt_df_scale[my_members, 1], \".\", c=color)\n",
    "    cluster_center = kmeans.cluster_centers_[k]\n",
    "    plt.plot(cluster_center[0], cluster_center[1], \"o\", markerfacecolor=color, markeredgecolor=\"k\", markersize=6)\n",
    "plt.show()"
   ]
  },
  {
   "cell_type": "code",
   "execution_count": null,
   "id": "6290e84a",
   "metadata": {},
   "outputs": [],
   "source": [
    "visualizer = SilhouetteVisualizer(kmeans, colors='yellowbrick')\n",
    "visualizer.fit(customer_reduce_vt_df_scale)"
   ]
  },
  {
   "cell_type": "markdown",
   "id": "8efaf709",
   "metadata": {},
   "source": [
    "##### PCA"
   ]
  },
  {
   "cell_type": "code",
   "execution_count": null,
   "id": "5bbdabbe",
   "metadata": {},
   "outputs": [],
   "source": [
    "sse = []\n",
    "for k in range(1,11):\n",
    "    km = KMeans(n_clusters=k, random_state=2)\n",
    "    km.fit(customer_reduce_pca_df_scale)\n",
    "    sse.append(km.inertia_)\n",
    "sns.set_style(\"whitegrid\")\n",
    "g=sns.lineplot(x=range(1,11), y=sse)\n",
    "g.set(xlabel =\"Number of cluster (k)\", ylabel = \"Sum Squared Error\", title ='Elbow Method')\n",
    "plt.show()"
   ]
  },
  {
   "cell_type": "code",
   "execution_count": null,
   "id": "26dd6440",
   "metadata": {},
   "outputs": [],
   "source": [
    "kmeans = KMeans(n_clusters = 2, random_state = 2)\n",
    "kmeans.fit(customer_reduce_pca_df_scale)\n",
    "customer_reduce_pca_df_scale_pred_1 = kmeans.fit_predict(customer_reduce_pca_df_scale)\n",
    "customer_reduce_pca_df_scale_pred_1"
   ]
  },
  {
   "cell_type": "code",
   "execution_count": null,
   "id": "0aff7850",
   "metadata": {},
   "outputs": [],
   "source": [
    "print(\"Silhouette Score: \",silhouette_score(customer_reduce_pca_df_scale_pred_1.reshape(-1, 1), kmeans.labels_))\n",
    "print(\"Calinski-Harabasz Index: \",calinski_harabasz_score(customer_reduce_pca_df_scale_pred_1.reshape(-1, 1), kmeans.labels_))\n",
    "print(\"Davies-Bouldin Index: \", davies_bouldin_score(customer_reduce_pca_df_scale_pred_1.reshape(-1, 1), kmeans.labels_))"
   ]
  },
  {
   "cell_type": "code",
   "execution_count": null,
   "id": "b8943e67",
   "metadata": {},
   "outputs": [],
   "source": [
    "pca = PCA(n_components=2)\n",
    "data_pca = pca.fit_transform(customer_reduce_pca_df_scale)\n",
    "plt.scatter(data_pca[:, 0], data_pca[:, 1], c=kmeans.labels_)\n",
    "centers_pca = pca.transform(kmeans.cluster_centers_)\n",
    "plt.scatter(centers_pca[:, 0], centers_pca[:, 1])\n",
    "#centers_pca = pca.fit_transform(kmeans.cluster_centers_)\n",
    "for center in centers_pca:\n",
    "    plt.scatter(center[0], center[1], marker='^', c='red', s=200, edgecolor='k')"
   ]
  },
  {
   "cell_type": "code",
   "execution_count": null,
   "id": "f158d19c",
   "metadata": {
    "scrolled": false
   },
   "outputs": [],
   "source": [
    "for k in range(kmeans.n_clusters):\n",
    "    my_members = kmeans.labels_ == k\n",
    "    color = cm.nipy_spectral(float(k) / kmeans.n_clusters, 2)\n",
    "    plt.plot(customer_reduce_pca_df_scale[my_members, 0], customer_reduce_pca_df_scale[my_members, 1], \".\", c=color)\n",
    "    cluster_center = kmeans.cluster_centers_[k]\n",
    "    plt.plot(cluster_center[0], cluster_center[1], \"o\", markerfacecolor=color, markeredgecolor=\"k\", markersize=6)\n",
    "plt.show()"
   ]
  },
  {
   "cell_type": "code",
   "execution_count": null,
   "id": "1d19f620",
   "metadata": {},
   "outputs": [],
   "source": [
    "visualizer = SilhouetteVisualizer(kmeans, colors='yellowbrick')\n",
    "visualizer.fit(customer_reduce_pca_df_scale)"
   ]
  },
  {
   "cell_type": "markdown",
   "id": "73b2e22e",
   "metadata": {},
   "source": [
    "### Agglomerative Clustering"
   ]
  },
  {
   "cell_type": "markdown",
   "id": "ad4385bb",
   "metadata": {},
   "source": [
    "##### Variance Threshold"
   ]
  },
  {
   "cell_type": "code",
   "execution_count": null,
   "id": "9fed472b",
   "metadata": {},
   "outputs": [],
   "source": [
    "ac = AgglomerativeClustering(n_clusters=2)\n",
    "ac.fit(customer_reduce_vt_df_scale)\n",
    "customer_reduce_vt_df_scale_pred_2 = ac.fit_predict(customer_reduce_vt_df_scale)\n",
    "customer_reduce_vt_df_scale_pred_2"
   ]
  },
  {
   "cell_type": "code",
   "execution_count": null,
   "id": "1674e0f9",
   "metadata": {},
   "outputs": [],
   "source": [
    "print(\"Silhouette Score: \",silhouette_score(customer_reduce_vt_df_scale_pred_2.reshape(-1, 1), ac.labels_))\n",
    "print(\"Calinski-Harabasz Index: \",calinski_harabasz_score(customer_reduce_vt_df_scale_pred_2.reshape(-1, 1), ac.labels_))\n",
    "print(\"Davies-Bouldin Index: \", davies_bouldin_score(customer_reduce_vt_df_scale_pred_2.reshape(-1, 1), ac.labels_))"
   ]
  },
  {
   "cell_type": "code",
   "execution_count": null,
   "id": "4e5cd467",
   "metadata": {},
   "outputs": [],
   "source": [
    "pca = PCA(n_components=2)\n",
    "data_pca = pca.fit_transform(customer_reduce_vt_df_scale)\n",
    "plt.scatter(data_pca[:, 0], data_pca[:, 1], c=kmeans.labels_)\n",
    "unique_labels = np.unique(ac.labels_)\n",
    "centroids = np.array([data_pca[ac.labels_ == label].mean(axis=0) for label in unique_labels])\n",
    "plt.scatter(centroids[:, 0], centroids[:, 1])\n",
    "plt.scatter(centroids[:,0], centroids[:,1], marker='^', c='red', s=200, edgecolor='k')"
   ]
  },
  {
   "cell_type": "code",
   "execution_count": null,
   "id": "c5485c5c",
   "metadata": {},
   "outputs": [],
   "source": [
    "np.unique(ac.labels_)"
   ]
  },
  {
   "cell_type": "code",
   "execution_count": null,
   "id": "edf69ee5",
   "metadata": {},
   "outputs": [],
   "source": [
    "for k in range(ac.n_clusters):\n",
    "    my_members = ac.labels_ == k\n",
    "    color = cm.nipy_spectral(float(k) / ac.n_clusters, 2)\n",
    "    plt.plot(customer_reduce_vt_df_scale[my_members, 0], customer_reduce_vt_df_scale[my_members, 1], \".\", c=color)\n",
    "    #cluster_center = ac.labels_[k]\n",
    "    plt.plot(np.unique(ac.labels_)[0], np.unique(ac.labels_)[1], \"o\", markerfacecolor=color, markeredgecolor=\"k\", markersize=6)\n",
    "plt.show()"
   ]
  },
  {
   "cell_type": "code",
   "execution_count": null,
   "id": "bd42914b",
   "metadata": {},
   "outputs": [],
   "source": [
    "silhouette_avg = silhouette_score(customer_reduce_vt_df_scale, ac.labels_)\n",
    "silhouette_values = silhouette_samples(customer_reduce_vt_df_scale, ac.labels_)\n",
    "fig, ax = plt.subplots(figsize=(10, 6))\n",
    "y_lower = 10\n",
    "for i in range(2):\n",
    "    ith_cluster_silhouette_values = silhouette_values[labels == i]\n",
    "    ith_cluster_silhouette_values.sort()\n",
    "    size_cluster_i = ith_cluster_silhouette_values.shape[0]\n",
    "    y_upper = y_lower + size_cluster_i\n",
    "    color = plt.cm.nipy_spectral(float(i) / 3)\n",
    "    ax.fill_betweenx(np.arange(y_lower, y_upper),0, ith_cluster_silhouette_values,facecolor=color, edgecolor=color, alpha=0.7)\n",
    "    ax.text(-0.05, y_lower + 0.5 * size_cluster_i, str(i))\n",
    "    y_lower = y_upper + 10\n",
    "ax.set_title(\"The silhouette plot for the various clusters.\")\n",
    "ax.set_xlabel(\"The silhouette coefficient values\")\n",
    "ax.set_ylabel(\"Cluster label\")\n",
    "ax.axvline(x=silhouette_avg, color=\"red\", linestyle=\"--\")\n",
    "plt.show()"
   ]
  },
  {
   "cell_type": "markdown",
   "id": "9388ed05",
   "metadata": {},
   "source": [
    "##### PCA"
   ]
  },
  {
   "cell_type": "code",
   "execution_count": null,
   "id": "9a4e25a2",
   "metadata": {},
   "outputs": [],
   "source": [
    "ac = AgglomerativeClustering(n_clusters=2)\n",
    "ac.fit(customer_reduce_pca_df_scale)\n",
    "customer_reduce_pca_df_scale_pred_2 = ac.fit_predict(customer_reduce_pca_df_scale)\n",
    "customer_reduce_pca_df_scale_pred_2"
   ]
  },
  {
   "cell_type": "code",
   "execution_count": null,
   "id": "eb3f6801",
   "metadata": {},
   "outputs": [],
   "source": [
    "print(\"Silhouette Score: \",silhouette_score(customer_reduce_pca_df_scale_pred_2.reshape(-1, 1), ac.labels_))\n",
    "print(\"Calinski-Harabasz Index: \",calinski_harabasz_score(customer_reduce_pca_df_scale_pred_2.reshape(-1, 1), ac.labels_))\n",
    "print(\"Davies-Bouldin Index: \", davies_bouldin_score(customer_reduce_pca_df_scale_pred_2.reshape(-1, 1), ac.labels_))"
   ]
  },
  {
   "cell_type": "code",
   "execution_count": null,
   "id": "8b548cb1",
   "metadata": {},
   "outputs": [],
   "source": [
    "pca = PCA(n_components=2)\n",
    "data_pca = pca.fit_transform(customer_reduce_pca_df_scale)\n",
    "plt.scatter(data_pca[:, 0], data_pca[:, 1], c=kmeans.labels_)\n",
    "unique_labels = np.unique(ac.labels_)\n",
    "centroids = np.array([data_pca[ac.labels_ == label].mean(axis=0) for label in unique_labels])\n",
    "plt.scatter(centroids[:, 0], centroids[:, 1])\n",
    "plt.scatter(centroids[:,0], centroids[:,1], marker='^', c='red', s=200, edgecolor='k')"
   ]
  },
  {
   "cell_type": "code",
   "execution_count": null,
   "id": "0ef807f8",
   "metadata": {},
   "outputs": [],
   "source": [
    "for k in range(ac.n_clusters):\n",
    "    my_members = ac.labels_ == k\n",
    "    color = cm.nipy_spectral(float(k) / ac.n_clusters, 2)\n",
    "    plt.plot(customer_reduce_pca_df_scale[my_members, 0], customer_reduce_pca_df_scale[my_members, 1], \".\", c=color)\n",
    "    #cluster_center = ac.labels_[k]\n",
    "    plt.plot(np.unique(ac.labels_)[0], np.unique(ac.labels_)[1], \"o\", markerfacecolor=color, markeredgecolor=\"k\", markersize=6)\n",
    "plt.show()"
   ]
  },
  {
   "cell_type": "code",
   "execution_count": null,
   "id": "d71498eb",
   "metadata": {},
   "outputs": [],
   "source": [
    "silhouette_avg = silhouette_score(customer_reduce_pca_df_scale, ac.labels_)\n",
    "silhouette_values = silhouette_samples(customer_reduce_pca_df_scale, ac.labels_)\n",
    "fig, ax = plt.subplots(figsize=(10, 6))\n",
    "y_lower = 10\n",
    "for i in range(2):\n",
    "    ith_cluster_silhouette_values = silhouette_values[labels == i]\n",
    "    ith_cluster_silhouette_values.sort()\n",
    "    size_cluster_i = ith_cluster_silhouette_values.shape[0]\n",
    "    y_upper = y_lower + size_cluster_i\n",
    "    color = plt.cm.nipy_spectral(float(i) / 3)\n",
    "    ax.fill_betweenx(np.arange(y_lower, y_upper),0, ith_cluster_silhouette_values,facecolor=color, edgecolor=color, alpha=0.7)\n",
    "    ax.text(-0.05, y_lower + 0.5 * size_cluster_i, str(i))\n",
    "    y_lower = y_upper + 10\n",
    "ax.set_title(\"The silhouette plot for the various clusters.\")\n",
    "ax.set_xlabel(\"The silhouette coefficient values\")\n",
    "ax.set_ylabel(\"Cluster label\")\n",
    "ax.axvline(x=silhouette_avg, color=\"red\", linestyle=\"--\")\n",
    "plt.show()"
   ]
  },
  {
   "cell_type": "markdown",
   "id": "09319b0b",
   "metadata": {},
   "source": [
    "### DBSCAN"
   ]
  },
  {
   "cell_type": "markdown",
   "id": "06c7f8f9",
   "metadata": {},
   "source": [
    "##### Variance Threshold"
   ]
  },
  {
   "cell_type": "code",
   "execution_count": null,
   "id": "9b37090e",
   "metadata": {},
   "outputs": [],
   "source": [
    "db = DBSCAN(eps=0.8, min_samples=20)\n",
    "db.fit(customer_reduce_vt_df_scale)\n",
    "customer_reduce_vt_df_scale_pred_3 = db.fit_predict(customer_reduce_vt_df_scale)\n",
    "customer_reduce_vt_df_scale_pred_3"
   ]
  },
  {
   "cell_type": "code",
   "execution_count": null,
   "id": "ca9bd236",
   "metadata": {},
   "outputs": [],
   "source": [
    "if len(np.unique(db.labels_))>1:\n",
    "    print(\"Silhouette Score: \",silhouette_score(customer_reduce_vt_df_scale_pred_3.reshape(-1, 1), db.labels_))\n",
    "    print(\"Calinski-Harabasz Index: \",calinski_harabasz_score(customer_reduce_vt_df_scale_pred_3.reshape(-1, 1), db.labels_))\n",
    "    print(\"Davies-Bouldin Index: \", davies_bouldin_score(customer_reduce_vt_df_scale_pred_3.reshape(-1, 1), db.labels_))\n",
    "print(\"Adjusted Rand Index:\" , adjusted_rand_score(customer_reduce_vt_df_scale_pred_3, db.labels_))"
   ]
  },
  {
   "cell_type": "code",
   "execution_count": null,
   "id": "4501479b",
   "metadata": {},
   "outputs": [],
   "source": [
    "len(np.unique(db.labels_))"
   ]
  },
  {
   "cell_type": "code",
   "execution_count": null,
   "id": "624e3889",
   "metadata": {},
   "outputs": [],
   "source": [
    "pca = PCA(n_components=2)\n",
    "data_pca = pca.fit_transform(customer_reduce_vt_df_scale)\n",
    "unique_labels = np.unique(db.labels_)\n",
    "colors = plt.cm.get_cmap(\"tab10\", len(unique_labels))\n",
    "for label in unique_labels:\n",
    "    if label == -1:\n",
    "        color = \"black\"\n",
    "        marker = \"x\"\n",
    "        label_name = \"Noise\"\n",
    "    else:\n",
    "        color = colors(label)\n",
    "        marker = \"o\"\n",
    "        label_name = f\"Cluster {label}\"  \n",
    "    plt.scatter(data_pca[db.labels_ == label, 0], data_pca[db.labels_ == label, 1], \n",
    "                c=[color], marker=marker, label=label_name)\n",
    "centroids = np.array([data_pca[db.labels_ == label].mean(axis=0) for label in unique_labels if label != -1])\n",
    "plt.scatter(centroids[:, 0], centroids[:, 1], marker='^', c='red', s=200, edgecolor='k', label='Centroids')\n",
    "plt.legend()\n",
    "plt.show()"
   ]
  },
  {
   "cell_type": "code",
   "execution_count": null,
   "id": "8cc464cf",
   "metadata": {},
   "outputs": [],
   "source": [
    "unique_labels = set(db.labels_)\n",
    "core_samples_mask = np.zeros_like(db.labels_, dtype=bool)\n",
    "core_samples_mask[db.core_sample_indices_] = True\n",
    "colors = [plt.cm.Spectral(each) for each in np.linspace(0, 1, len(unique_labels))]\n",
    "for k, col in zip(unique_labels, colors):\n",
    "    class_member_mask = db.labels_ == k\n",
    "    xy = customer_reduce_vt_df_scale[class_member_mask & core_samples_mask]\n",
    "    plt.plot(xy[:, 0], xy[:, 1], \"o\", markerfacecolor=tuple(col), markeredgecolor=\"k\", markersize=14)\n",
    "    #xy = customer_reduce_vt_df_scale[class_member_mask & ~core_samples_mask]\n",
    "    #plt.plot(xy[:, 0], xy[:, 1], \"o\", markerfacecolor=tuple(col), markeredgecolor=\"k\", markersize=6)\n",
    "plt.title(\"Estimated number of clusters: \")\n",
    "plt.show()"
   ]
  },
  {
   "cell_type": "code",
   "execution_count": null,
   "id": "9496b23c",
   "metadata": {},
   "outputs": [],
   "source": [
    "silhouette_avg = silhouette_score(customer_reduce_vt_df_scale, db.labels_)\n",
    "silhouette_values = silhouette_samples(customer_reduce_vt_df_scale, db.labels_)\n",
    "fig, ax = plt.subplots(figsize=(10, 6))\n",
    "y_lower = 10\n",
    "for i in range(2):\n",
    "    ith_cluster_silhouette_values = silhouette_values[labels == i]\n",
    "    ith_cluster_silhouette_values.sort()\n",
    "    size_cluster_i = ith_cluster_silhouette_values.shape[0]\n",
    "    y_upper = y_lower + size_cluster_i\n",
    "    color = plt.cm.nipy_spectral(float(i) / 3)\n",
    "    ax.fill_betweenx(np.arange(y_lower, y_upper),0, ith_cluster_silhouette_values,facecolor=color, edgecolor=color, alpha=0.7)\n",
    "    ax.text(-0.05, y_lower + 0.5 * size_cluster_i, str(i))\n",
    "    y_lower = y_upper + 10\n",
    "ax.set_title(\"The silhouette plot for the various clusters.\")\n",
    "ax.set_xlabel(\"The silhouette coefficient values\")\n",
    "ax.set_ylabel(\"Cluster label\")\n",
    "ax.axvline(x=silhouette_avg, color=\"red\", linestyle=\"--\")\n",
    "plt.show()"
   ]
  },
  {
   "cell_type": "markdown",
   "id": "e2242c3f",
   "metadata": {},
   "source": [
    "##### PCA"
   ]
  },
  {
   "cell_type": "code",
   "execution_count": null,
   "id": "ce69d129",
   "metadata": {},
   "outputs": [],
   "source": [
    "db = DBSCAN(eps=0.8, min_samples=30)\n",
    "db.fit(customer_reduce_pca_df_scale)\n",
    "customer_reduce_pca_df_scale_pred_3 = db.fit_predict(customer_reduce_pca_df_scale)\n",
    "customer_reduce_pca_df_scale_pred_3"
   ]
  },
  {
   "cell_type": "code",
   "execution_count": null,
   "id": "683a4310",
   "metadata": {},
   "outputs": [],
   "source": [
    "if len(np.unique(db.labels_))>1:\n",
    "    print(\"Silhouette Score: \",silhouette_score(customer_reduce_pca_df_scale_pred_3.reshape(-1, 1), db.labels_))\n",
    "    print(\"Calinski-Harabasz Index: \",calinski_harabasz_score(customer_reduce_pca_df_scale_pred_3.reshape(-1, 1), db.labels_))\n",
    "    print(\"Davies-Bouldin Index: \", davies_bouldin_score(customer_reduce_pca_df_scale_pred_3.reshape(-1, 1), db.labels_))\n",
    "print(\"Adjusted Rand Index:\" , adjusted_rand_score(customer_reduce_pca_df_scale_pred_3, db.labels_))"
   ]
  },
  {
   "cell_type": "code",
   "execution_count": null,
   "id": "97f58f6f",
   "metadata": {},
   "outputs": [],
   "source": [
    "pca = PCA(n_components=2)\n",
    "data_pca = pca.fit_transform(customer_reduce_pca_df_scale)\n",
    "unique_labels = np.unique(db.labels_)\n",
    "colors = plt.cm.get_cmap(\"tab10\", len(unique_labels))\n",
    "for label in unique_labels:\n",
    "    if label == -1:\n",
    "        color = \"black\"\n",
    "        marker = \"x\"\n",
    "        label_name = \"Noise\"\n",
    "    else:\n",
    "        color = colors(label)\n",
    "        marker = \"o\"\n",
    "        label_name = f\"Cluster {label}\"  \n",
    "    plt.scatter(data_pca[db.labels_ == label, 0], data_pca[db.labels_ == label, 1], \n",
    "                c=[color], marker=marker, label=label_name)\n",
    "centroids = np.array([data_pca[db.labels_ == label].mean(axis=0) for label in unique_labels if label != -1])\n",
    "plt.scatter(centroids[:, 0], centroids[:, 1], marker='^', c='red', s=200, edgecolor='k', label='Centroids')\n",
    "plt.legend()\n",
    "plt.show()"
   ]
  },
  {
   "cell_type": "code",
   "execution_count": null,
   "id": "74222218",
   "metadata": {},
   "outputs": [],
   "source": [
    "db = DBSCAN(eps=0.3, min_samples=10).fit(customer_reduce_pca_df_scale)\n",
    "labels = db.labels_\n",
    "\n",
    "# Number of clusters in labels, ignoring noise if present.\n",
    "n_clusters_ = len(set(labels)) - (1 if -1 in labels else 0)\n",
    "n_noise_ = list(labels).count(-1)\n",
    "\n",
    "print(\"Estimated number of clusters: %d\" % n_clusters_)\n",
    "print(\"Estimated number of noise points: %d\" % n_noise_)"
   ]
  },
  {
   "cell_type": "code",
   "execution_count": null,
   "id": "3a5221de",
   "metadata": {},
   "outputs": [],
   "source": [
    "if len(np.unique(db.labels_))>1:\n",
    "    print(\"Silhouette Score: \",silhouette_score(customer_reduce_pca_df_scale_pred_3.reshape(-1, 1), db.labels_))\n",
    "    print(\"Calinski-Harabasz Index: \",calinski_harabasz_score(customer_reduce_pca_df_scale_pred_3.reshape(-1, 1), db.labels_))\n",
    "    print(\"Davies-Bouldin Index: \", davies_bouldin_score(customer_reduce_pca_df_scale_pred_3.reshape(-1, 1), db.labels_))\n",
    "print(\"Adjusted Rand Index:\" , adjusted_rand_score(customer_reduce_pca_df_scale_pred_3, db.labels_))"
   ]
  },
  {
   "cell_type": "code",
   "execution_count": null,
   "id": "40bca8c6",
   "metadata": {},
   "outputs": [],
   "source": [
    "unique_labels = set(labels)\n",
    "core_samples_mask = np.zeros_like(labels, dtype=bool)\n",
    "core_samples_mask[db.core_sample_indices_] = True\n",
    "\n",
    "colors = [plt.cm.Spectral(each) for each in np.linspace(0, 1, len(unique_labels))]\n",
    "for k, col in zip(unique_labels, colors):\n",
    "    if k == -1:\n",
    "        # Black used for noise.\n",
    "        col = [0, 0, 0, 1]\n",
    "\n",
    "    class_member_mask = labels == k\n",
    "\n",
    "    xy = customer_reduce_pca_df_scale[class_member_mask & core_samples_mask]\n",
    "    plt.plot(\n",
    "        xy[:, 0],\n",
    "        xy[:, 1],\n",
    "        \"o\",\n",
    "        markerfacecolor=tuple(col),\n",
    "        markeredgecolor=\"k\",\n",
    "        markersize=14,\n",
    "    )\n",
    "\n",
    "    xy = customer_reduce_pca_df_scale[class_member_mask & ~core_samples_mask]\n",
    "    plt.plot(\n",
    "        xy[:, 0],\n",
    "        xy[:, 1],\n",
    "        \"o\",\n",
    "        markerfacecolor=tuple(col),\n",
    "        markeredgecolor=\"k\",\n",
    "        markersize=6,\n",
    "    )\n",
    "\n",
    "plt.title(f\"Estimated number of clusters: {n_clusters_}\")\n",
    "plt.show()"
   ]
  },
  {
   "cell_type": "code",
   "execution_count": null,
   "id": "dd92ac52",
   "metadata": {},
   "outputs": [],
   "source": [
    "silhouette_avg = silhouette_score(customer_reduce_pca_df_scale, db.labels_)\n",
    "silhouette_values = silhouette_samples(customer_reduce_pca_df_scale, db.labels_)\n",
    "fig, ax = plt.subplots(figsize=(10, 6))\n",
    "y_lower = 10\n",
    "for i in range(2):\n",
    "    ith_cluster_silhouette_values = silhouette_values[labels == i]\n",
    "    ith_cluster_silhouette_values.sort()\n",
    "    size_cluster_i = ith_cluster_silhouette_values.shape[0]\n",
    "    y_upper = y_lower + size_cluster_i\n",
    "    color = plt.cm.nipy_spectral(float(i) / 3)\n",
    "    ax.fill_betweenx(np.arange(y_lower, y_upper),0, ith_cluster_silhouette_values,facecolor=color, edgecolor=color, alpha=0.7)\n",
    "    ax.text(-0.05, y_lower + 0.5 * size_cluster_i, str(i))\n",
    "    y_lower = y_upper + 10\n",
    "ax.set_title(\"The silhouette plot for the various clusters.\")\n",
    "ax.set_xlabel(\"The silhouette coefficient values\")\n",
    "ax.set_ylabel(\"Cluster label\")\n",
    "ax.axvline(x=silhouette_avg, color=\"red\", linestyle=\"--\")\n",
    "plt.show()"
   ]
  },
  {
   "cell_type": "markdown",
   "id": "16dd252c",
   "metadata": {},
   "source": [
    "### MeanShift"
   ]
  },
  {
   "cell_type": "markdown",
   "id": "795be59c",
   "metadata": {},
   "source": [
    "##### Variance Threshold"
   ]
  },
  {
   "cell_type": "code",
   "execution_count": null,
   "id": "ade1cb88",
   "metadata": {},
   "outputs": [],
   "source": [
    "ms = MeanShift()\n",
    "ms.fit(customer_reduce_vt_df_scale)\n",
    "customer_reduce_vt_df_scale_pred_4 = ms.fit_predict(customer_reduce_vt_df_scale)\n",
    "customer_reduce_vt_df_scale_pred_4"
   ]
  },
  {
   "cell_type": "code",
   "execution_count": null,
   "id": "99266bf9",
   "metadata": {},
   "outputs": [],
   "source": [
    "if len(np.unique(ms.labels_))>1:\n",
    "    print(\"Silhouette Score: \",silhouette_score(customer_reduce_vt_df_scale_pred_4.reshape(-1, 1), ms.labels_))\n",
    "    print(\"Calinski-Harabasz Index: \",calinski_harabasz_score(customer_reduce_vt_df_scale_pred_4.reshape(-1, 1), ms.labels_))\n",
    "    print(\"Davies-Bouldin Index: \", davies_bouldin_score(customer_reduce_vt_df_scale_pred_4.reshape(-1, 1), ms.labels_))\n",
    "print(\"Adjusted Rand Index:\" , adjusted_rand_score(customer_reduce_vt_df_scale_pred_4, ms.labels_))"
   ]
  },
  {
   "cell_type": "code",
   "execution_count": null,
   "id": "966cb919",
   "metadata": {},
   "outputs": [],
   "source": [
    "pca = PCA(n_components=2)\n",
    "data_pca = pca.fit_transform(customer_reduce_vt_df_scale)\n",
    "unique_labels = np.unique(ms.labels_)\n",
    "colors = plt.cm.get_cmap(\"tab10\", len(unique_labels))\n",
    "for label in unique_labels:\n",
    "    if label == -1:\n",
    "        color = \"black\"\n",
    "        marker = \"x\"\n",
    "        label_name = \"Noise\"\n",
    "    else:\n",
    "        color = colors(label)\n",
    "        marker = \"o\"\n",
    "        label_name = f\"Cluster {label}\"  \n",
    "    plt.scatter(data_pca[ms.labels_ == label, 0], data_pca[ms.labels_ == label, 1], c=[color], marker=marker, label=label_name)\n",
    "centroids = np.array([data_pca[ms.labels_ == label].mean(axis=0) for label in unique_labels if label != -1])\n",
    "plt.scatter(centroids[:, 0], centroids[:, 1], marker='^', c='red', s=200, edgecolor='k', label='Centroids')\n",
    "plt.legend()\n",
    "plt.show()"
   ]
  },
  {
   "cell_type": "code",
   "execution_count": null,
   "id": "8c1044ef",
   "metadata": {},
   "outputs": [],
   "source": [
    "cmap = plt.cm.get_cmap(\"tab10\", len(unique_labels))\n",
    "color_list=[cmap(i) for i in range(len(ms.labels_))]\n",
    "markers ='^'\n",
    "for k, col in zip(range(len(ms.cluster_centers_)), color_list):\n",
    "    my_members = ms.labels_ == k\n",
    "    cluster_center = ms.cluster_centers_[k]\n",
    "    plt.plot(customer_reduce_vt_df_scale[my_members, 0], customer_reduce_vt_df_scale[my_members, 1], markers, color=col)\n",
    "    plt.plot(cluster_center[0], cluster_center[1], markers, markerfacecolor=\"red\", markeredgecolor=\"k\", markersize=14)\n",
    "plt.title(\"Estimated number of clusters: %d\" % n_clusters_)\n",
    "plt.show()"
   ]
  },
  {
   "cell_type": "code",
   "execution_count": null,
   "id": "b3d8b475",
   "metadata": {},
   "outputs": [],
   "source": [
    "silhouette_avg = silhouette_score(customer_reduce_vt_df_scale, ms.labels_)\n",
    "silhouette_values = silhouette_samples(customer_reduce_vt_df_scale, ms.labels_)\n",
    "fig, ax = plt.subplots(figsize=(10, 6))\n",
    "y_lower = 10\n",
    "for i in range(2):\n",
    "    ith_cluster_silhouette_values = silhouette_values[labels == i]\n",
    "    ith_cluster_silhouette_values.sort()\n",
    "    size_cluster_i = ith_cluster_silhouette_values.shape[0]\n",
    "    y_upper = y_lower + size_cluster_i\n",
    "    color = plt.cm.nipy_spectral(float(i) / 3)\n",
    "    ax.fill_betweenx(np.arange(y_lower, y_upper),0, ith_cluster_silhouette_values,facecolor=color, edgecolor=color, alpha=0.7)\n",
    "    ax.text(-0.05, y_lower + 0.5 * size_cluster_i, str(i))\n",
    "    y_lower = y_upper + 10\n",
    "ax.set_title(\"The silhouette plot for the various clusters.\")\n",
    "ax.set_xlabel(\"The silhouette coefficient values\")\n",
    "ax.set_ylabel(\"Cluster label\")\n",
    "ax.axvline(x=silhouette_avg, color=\"red\", linestyle=\"--\")\n",
    "plt.show()"
   ]
  },
  {
   "cell_type": "markdown",
   "id": "247e6d6e",
   "metadata": {},
   "source": [
    "##### PCA"
   ]
  },
  {
   "cell_type": "code",
   "execution_count": null,
   "id": "650861df",
   "metadata": {},
   "outputs": [],
   "source": [
    "ms = MeanShift()\n",
    "ms.fit(customer_reduce_pca_df_scale)\n",
    "customer_reduce_pca_df_scale_pred_4 = ms.fit_predict(customer_reduce_pca_df_scale)\n",
    "customer_reduce_pca_df_scale_pred_4"
   ]
  },
  {
   "cell_type": "code",
   "execution_count": null,
   "id": "66b8589e",
   "metadata": {},
   "outputs": [],
   "source": [
    "if len(np.unique(ms.labels_))>1:\n",
    "    print(\"Silhouette Score: \",silhouette_score(customer_reduce_pca_df_scale_pred_4.reshape(-1, 1), ms.labels_))\n",
    "    print(\"Calinski-Harabasz Index: \",calinski_harabasz_score(customer_reduce_pca_df_scale_pred_4.reshape(-1, 1), ms.labels_))\n",
    "    print(\"Davies-Bouldin Index: \", davies_bouldin_score(customer_reduce_pca_df_scale_pred_4.reshape(-1, 1), ms.labels_))\n",
    "print(\"Adjusted Rand Index:\" , adjusted_rand_score(customer_reduce_pca_df_scale_pred_4, ms.labels_))"
   ]
  },
  {
   "cell_type": "code",
   "execution_count": null,
   "id": "38199cf0",
   "metadata": {},
   "outputs": [],
   "source": [
    "pca = PCA(n_components=2)\n",
    "data_pca = pca.fit_transform(customer_reduce_pca_df_scale)\n",
    "unique_labels = np.unique(ms.labels_)\n",
    "colors = plt.cm.get_cmap(\"tab10\", len(unique_labels))\n",
    "for label in unique_labels:\n",
    "    if label == -1:\n",
    "        color = \"black\"\n",
    "        marker = \"x\"\n",
    "        label_name = \"Noise\"\n",
    "    else:\n",
    "        color = colors(label)\n",
    "        marker = \"o\"\n",
    "        label_name = f\"Cluster {label}\"  \n",
    "    plt.scatter(data_pca[ms.labels_ == label, 0], data_pca[ms.labels_ == label, 1], c=[color], marker=marker, label=label_name)\n",
    "centroids = np.array([data_pca[ms.labels_ == label].mean(axis=0) for label in unique_labels if label != -1])\n",
    "plt.scatter(centroids[:, 0], centroids[:, 1], marker='^', c='red', s=200, edgecolor='k', label='Centroids')\n",
    "plt.legend()\n",
    "plt.show()"
   ]
  },
  {
   "cell_type": "code",
   "execution_count": null,
   "id": "ea720326",
   "metadata": {},
   "outputs": [],
   "source": [
    "cmap = plt.cm.get_cmap(\"tab10\", len(unique_labels))\n",
    "color_list=[cmap(i) for i in range(len(ms.labels_))]\n",
    "markers ='^'\n",
    "for k, col in zip(range(len(ms.cluster_centers_)), color_list):\n",
    "    my_members = ms.labels_ == k\n",
    "    cluster_center = ms.cluster_centers_[k]\n",
    "    plt.plot(customer_reduce_pca_df_scale[my_members, 0], customer_reduce_pca_df_scale[my_members, 1], markers, color=col)\n",
    "    plt.plot(cluster_center[0], cluster_center[1], markers, markerfacecolor=\"red\", markeredgecolor=\"k\", markersize=14)\n",
    "plt.title(\"Estimated number of clusters: %d\" % n_clusters_)\n",
    "plt.show()"
   ]
  },
  {
   "cell_type": "code",
   "execution_count": null,
   "id": "2b985f08",
   "metadata": {},
   "outputs": [],
   "source": [
    "silhouette_avg = silhouette_score(customer_reduce_pca_df_scale, ms.labels_)\n",
    "silhouette_values = silhouette_samples(customer_reduce_pca_df_scale, ms.labels_)\n",
    "fig, ax = plt.subplots(figsize=(10, 6))\n",
    "y_lower = 10\n",
    "for i in range(2):\n",
    "    ith_cluster_silhouette_values = silhouette_values[labels == i]\n",
    "    ith_cluster_silhouette_values.sort()\n",
    "    size_cluster_i = ith_cluster_silhouette_values.shape[0]\n",
    "    y_upper = y_lower + size_cluster_i\n",
    "    color = plt.cm.nipy_spectral(float(i) / 3)\n",
    "    ax.fill_betweenx(np.arange(y_lower, y_upper),0, ith_cluster_silhouette_values,facecolor=color, edgecolor=color, alpha=0.7)\n",
    "    ax.text(-0.05, y_lower + 0.5 * size_cluster_i, str(i))\n",
    "    y_lower = y_upper + 10\n",
    "ax.set_title(\"The silhouette plot for the various clusters.\")\n",
    "ax.set_xlabel(\"The silhouette coefficient values\")\n",
    "ax.set_ylabel(\"Cluster label\")\n",
    "ax.axvline(x=silhouette_avg, color=\"red\", linestyle=\"--\")\n",
    "plt.show()"
   ]
  },
  {
   "cell_type": "markdown",
   "id": "f38eab41",
   "metadata": {},
   "source": [
    "### Spectral Clustering"
   ]
  },
  {
   "cell_type": "markdown",
   "id": "46d60278",
   "metadata": {},
   "source": [
    "##### Variance Threshold"
   ]
  },
  {
   "cell_type": "code",
   "execution_count": null,
   "id": "17887994",
   "metadata": {},
   "outputs": [],
   "source": [
    "sc = SpectralClustering(n_clusters = 2, affinity ='rbf')\n",
    "sc.fit(customer_reduce_vt_df_scale)\n",
    "customer_reduce_vt_df_scale_pred_5 = sc.fit_predict(customer_reduce_vt_df_scale)\n",
    "customer_reduce_vt_df_scale_pred_5"
   ]
  },
  {
   "cell_type": "code",
   "execution_count": null,
   "id": "04386c36",
   "metadata": {},
   "outputs": [],
   "source": [
    "if len(np.unique(sc.labels_))>1:\n",
    "    print(\"Silhouette Score: \",silhouette_score(customer_reduce_vt_df_scale_pred_5.reshape(-1, 1), sc.labels_))\n",
    "    print(\"Calinski-Harabasz Index: \",calinski_harabasz_score(customer_reduce_vt_df_scale_pred_5.reshape(-1, 1), sc.labels_))\n",
    "    print(\"Davies-Bouldin Index: \", davies_bouldin_score(customer_reduce_vt_df_scale_pred_5.reshape(-1, 1), sc.labels_))\n",
    "print(\"Adjusted Rand Index:\" , adjusted_rand_score(customer_reduce_vt_df_scale_pred_5, sc.labels_))"
   ]
  },
  {
   "cell_type": "code",
   "execution_count": null,
   "id": "ae1f1a7f",
   "metadata": {},
   "outputs": [],
   "source": [
    "pca = PCA(n_components=2)\n",
    "data_pca = pca.fit_transform(customer_reduce_vt_df_scale)\n",
    "unique_labels = np.unique(sc.labels_)\n",
    "colors = plt.cm.get_cmap(\"tab10\", len(unique_labels))\n",
    "for label in unique_labels:\n",
    "    if label == -1:\n",
    "        color = \"black\"\n",
    "        marker = \"x\"\n",
    "        label_name = \"Noise\"\n",
    "    else:\n",
    "        color = colors(label)\n",
    "        marker = \"o\"\n",
    "        label_name = f\"Cluster {label}\"  \n",
    "    plt.scatter(data_pca[sc.labels_ == label, 0], data_pca[sc.labels_ == label, 1], \n",
    "                c=[color], marker=marker, label=label_name)\n",
    "centroids = np.array([data_pca[sc.labels_ == label].mean(axis=0) for label in unique_labels if label != -1])\n",
    "plt.scatter(centroids[:, 0], centroids[:, 1], marker='^', c='red', s=200, edgecolor='k', label='Centroids')\n",
    "plt.legend()\n",
    "plt.show()"
   ]
  },
  {
   "cell_type": "code",
   "execution_count": null,
   "id": "fc2a3bef",
   "metadata": {},
   "outputs": [],
   "source": [
    "plt.scatter(customer_reduce_vt_df_scale[:,0], customer_reduce_vt_df_scale[:,1], s=5, c=sc.labels_, label=\"n_cluster-\"+str(2))\n",
    "plt.legend()\n",
    "plt.show()"
   ]
  },
  {
   "cell_type": "code",
   "execution_count": null,
   "id": "96117c20",
   "metadata": {},
   "outputs": [],
   "source": [
    "silhouette_avg = silhouette_score(customer_reduce_vt_df_scale, sc.labels_)\n",
    "silhouette_values = silhouette_samples(customer_reduce_vt_df_scale, sc.labels_)\n",
    "fig, ax = plt.subplots(figsize=(10, 6))\n",
    "y_lower = 10\n",
    "for i in range(2):\n",
    "    ith_cluster_silhouette_values = silhouette_values[labels == i]\n",
    "    ith_cluster_silhouette_values.sort()\n",
    "    size_cluster_i = ith_cluster_silhouette_values.shape[0]\n",
    "    y_upper = y_lower + size_cluster_i\n",
    "    color = plt.cm.nipy_spectral(float(i) / 3)\n",
    "    ax.fill_betweenx(np.arange(y_lower, y_upper),0, ith_cluster_silhouette_values,facecolor=color, edgecolor=color, alpha=0.7)\n",
    "    ax.text(-0.05, y_lower + 0.5 * size_cluster_i, str(i))\n",
    "    y_lower = y_upper + 10\n",
    "ax.set_title(\"The silhouette plot for the various clusters.\")\n",
    "ax.set_xlabel(\"The silhouette coefficient values\")\n",
    "ax.set_ylabel(\"Cluster label\")\n",
    "ax.axvline(x=silhouette_avg, color=\"red\", linestyle=\"--\")\n",
    "plt.show()"
   ]
  },
  {
   "cell_type": "markdown",
   "id": "ef5df60b",
   "metadata": {},
   "source": [
    "##### PCA"
   ]
  },
  {
   "cell_type": "code",
   "execution_count": null,
   "id": "20af243a",
   "metadata": {},
   "outputs": [],
   "source": [
    "sc = SpectralClustering(n_clusters = 2, affinity ='rbf')\n",
    "sc.fit(customer_reduce_pca_df_scale)\n",
    "customer_reduce_pca_df_scale_pred_5 = sc.fit_predict(customer_reduce_pca_df_scale)\n",
    "customer_reduce_pca_df_scale_pred_5"
   ]
  },
  {
   "cell_type": "code",
   "execution_count": null,
   "id": "20bb0a3a",
   "metadata": {},
   "outputs": [],
   "source": [
    "if len(np.unique(sc.labels_))>1:\n",
    "    print(\"Silhouette Score: \",silhouette_score(customer_reduce_pca_df_scale_pred_5.reshape(-1, 1), sc.labels_))\n",
    "    print(\"Calinski-Harabasz Index: \",calinski_harabasz_score(customer_reduce_pca_df_scale_pred_5.reshape(-1, 1), sc.labels_))\n",
    "    print(\"Davies-Bouldin Index: \", davies_bouldin_score(customer_reduce_pca_df_scale_pred_5.reshape(-1, 1), sc.labels_))\n",
    "print(\"Adjusted Rand Index:\" , adjusted_rand_score(customer_reduce_pca_df_scale_pred_5, sc.labels_))"
   ]
  },
  {
   "cell_type": "code",
   "execution_count": null,
   "id": "4a1eb6d9",
   "metadata": {},
   "outputs": [],
   "source": [
    "pca = PCA(n_components=2)\n",
    "data_pca = pca.fit_transform(customer_reduce_pca_df_scale)\n",
    "unique_labels = np.unique(sc.labels_)\n",
    "colors = plt.cm.get_cmap(\"tab10\", len(unique_labels))\n",
    "for label in unique_labels:\n",
    "    if label == -1:\n",
    "        color = \"black\"\n",
    "        marker = \"x\"\n",
    "        label_name = \"Noise\"\n",
    "    else:\n",
    "        color = colors(label)\n",
    "        marker = \"o\"\n",
    "        label_name = f\"Cluster {label}\"  \n",
    "    plt.scatter(data_pca[sc.labels_ == label, 0], data_pca[sc.labels_ == label, 1], \n",
    "                c=[color], marker=marker, label=label_name)\n",
    "centroids = np.array([data_pca[sc.labels_ == label].mean(axis=0) for label in unique_labels if label != -1])\n",
    "plt.scatter(centroids[:, 0], centroids[:, 1], marker='^', c='red', s=200, edgecolor='k', label='Centroids')\n",
    "plt.legend()\n",
    "plt.show()"
   ]
  },
  {
   "cell_type": "code",
   "execution_count": null,
   "id": "bb1d7e7d",
   "metadata": {},
   "outputs": [],
   "source": [
    "plt.scatter(customer_reduce_pca_df_scale[:,0], customer_reduce_pca_df_scale[:,1], s=5, c=sc.labels_, label=\"n_cluster-\"+str(2))\n",
    "plt.legend()\n",
    "plt.show()"
   ]
  },
  {
   "cell_type": "code",
   "execution_count": null,
   "id": "eac8031d",
   "metadata": {},
   "outputs": [],
   "source": [
    "silhouette_avg = silhouette_score(customer_reduce_pca_df_scale, sc.labels_)\n",
    "silhouette_values = silhouette_samples(customer_reduce_pca_df_scale, sc.labels_)\n",
    "fig, ax = plt.subplots(figsize=(10, 6))\n",
    "y_lower = 10\n",
    "for i in range(2):\n",
    "    ith_cluster_silhouette_values = silhouette_values[labels == i]\n",
    "    ith_cluster_silhouette_values.sort()\n",
    "    size_cluster_i = ith_cluster_silhouette_values.shape[0]\n",
    "    y_upper = y_lower + size_cluster_i\n",
    "    color = plt.cm.nipy_spectral(float(i) / 3)\n",
    "    ax.fill_betweenx(np.arange(y_lower, y_upper),0, ith_cluster_silhouette_values,facecolor=color, edgecolor=color, alpha=0.7)\n",
    "    ax.text(-0.05, y_lower + 0.5 * size_cluster_i, str(i))\n",
    "    y_lower = y_upper + 10\n",
    "ax.set_title(\"The silhouette plot for the various clusters.\")\n",
    "ax.set_xlabel(\"The silhouette coefficient values\")\n",
    "ax.set_ylabel(\"Cluster label\")\n",
    "ax.axvline(x=silhouette_avg, color=\"red\", linestyle=\"--\")\n",
    "plt.show()"
   ]
  },
  {
   "cell_type": "markdown",
   "id": "97edd625",
   "metadata": {},
   "source": [
    "##### Variance Threshold"
   ]
  },
  {
   "cell_type": "code",
   "execution_count": null,
   "id": "b36ee6db",
   "metadata": {},
   "outputs": [],
   "source": [
    "sc = SpectralClustering(n_clusters = 2, affinity ='nearest_neighbors')\n",
    "sc.fit(customer_reduce_vt_df_scale)\n",
    "customer_reduce_vt_df_scale_pred_5_2 = sc.fit_predict(customer_reduce_vt_df_scale)\n",
    "customer_reduce_vt_df_scale_pred_5_2"
   ]
  },
  {
   "cell_type": "code",
   "execution_count": null,
   "id": "4fed188c",
   "metadata": {},
   "outputs": [],
   "source": [
    "if len(np.unique(sc.labels_))>1:\n",
    "    print(\"Silhouette Score: \",silhouette_score(customer_reduce_vt_df_scale_pred_5_2.reshape(-1, 1), sc.labels_))\n",
    "    print(\"Calinski-Harabasz Index: \",calinski_harabasz_score(customer_reduce_vt_df_scale_pred_5_2.reshape(-1, 1), sc.labels_))\n",
    "    print(\"Davies-Bouldin Index: \", davies_bouldin_score(customer_reduce_vt_df_scale_pred_5_2.reshape(-1, 1), sc.labels_))\n",
    "print(\"Adjusted Rand Index:\" , adjusted_rand_score(customer_reduce_vt_df_scale_pred_5_2, sc.labels_))"
   ]
  },
  {
   "cell_type": "code",
   "execution_count": null,
   "id": "e8b72603",
   "metadata": {},
   "outputs": [],
   "source": [
    "pca = PCA(n_components=2)\n",
    "data_pca = pca.fit_transform(customer_reduce_vt_df_scale)\n",
    "unique_labels = np.unique(sc.labels_)\n",
    "colors = plt.cm.get_cmap(\"tab10\", len(unique_labels))\n",
    "for label in unique_labels:\n",
    "    if label == -1:\n",
    "        color = \"black\"\n",
    "        marker = \"x\"\n",
    "        label_name = \"Noise\"\n",
    "    else:\n",
    "        color = colors(label)\n",
    "        marker = \"o\"\n",
    "        label_name = f\"Cluster {label}\"  \n",
    "    plt.scatter(data_pca[sc.labels_ == label, 0], data_pca[sc.labels_ == label, 1], \n",
    "                c=[color], marker=marker, label=label_name)\n",
    "centroids = np.array([data_pca[sc.labels_ == label].mean(axis=0) for label in unique_labels if label != -1])\n",
    "plt.scatter(centroids[:, 0], centroids[:, 1], marker='^', c='red', s=200, edgecolor='k', label='Centroids')\n",
    "plt.legend()\n",
    "plt.show()"
   ]
  },
  {
   "cell_type": "code",
   "execution_count": null,
   "id": "fc775043",
   "metadata": {},
   "outputs": [],
   "source": [
    "plt.scatter(customer_reduce_vt_df_scale[:,0], customer_reduce_vt_df_scale[:,1], s=5, c=sc.labels_, label=\"n_cluster-\"+str(2))\n",
    "plt.legend()\n",
    "plt.show()"
   ]
  },
  {
   "cell_type": "code",
   "execution_count": null,
   "id": "f123229a",
   "metadata": {},
   "outputs": [],
   "source": [
    "silhouette_avg = silhouette_score(customer_reduce_vt_df_scale, sc.labels_)\n",
    "silhouette_values = silhouette_samples(customer_reduce_vt_df_scale, sc.labels_)\n",
    "fig, ax = plt.subplots(figsize=(10, 6))\n",
    "y_lower = 10\n",
    "for i in range(2):\n",
    "    ith_cluster_silhouette_values = silhouette_values[labels == i]\n",
    "    ith_cluster_silhouette_values.sort()\n",
    "    size_cluster_i = ith_cluster_silhouette_values.shape[0]\n",
    "    y_upper = y_lower + size_cluster_i\n",
    "    color = plt.cm.nipy_spectral(float(i) / 3)\n",
    "    ax.fill_betweenx(np.arange(y_lower, y_upper),0, ith_cluster_silhouette_values,facecolor=color, edgecolor=color, alpha=0.7)\n",
    "    ax.text(-0.05, y_lower + 0.5 * size_cluster_i, str(i))\n",
    "    y_lower = y_upper + 10\n",
    "ax.set_title(\"The silhouette plot for the various clusters.\")\n",
    "ax.set_xlabel(\"The silhouette coefficient values\")\n",
    "ax.set_ylabel(\"Cluster label\")\n",
    "ax.axvline(x=silhouette_avg, color=\"red\", linestyle=\"--\")\n",
    "plt.show()"
   ]
  },
  {
   "cell_type": "markdown",
   "id": "c004a152",
   "metadata": {},
   "source": [
    "##### PCA"
   ]
  },
  {
   "cell_type": "code",
   "execution_count": null,
   "id": "1a78aa68",
   "metadata": {},
   "outputs": [],
   "source": [
    "sc = SpectralClustering(n_clusters = 4, affinity ='nearest_neighbors')\n",
    "sc.fit(customer_reduce_pca_df_scale)\n",
    "customer_reduce_pca_df_scale_pred_5_2 = sc.fit_predict(customer_reduce_pca_df_scale)\n",
    "customer_reduce_pca_df_scale_pred_5_2"
   ]
  },
  {
   "cell_type": "code",
   "execution_count": null,
   "id": "00f60a33",
   "metadata": {},
   "outputs": [],
   "source": [
    "if len(np.unique(sc.labels_))>1:\n",
    "    print(\"Silhouette Score: \",silhouette_score(customer_reduce_pca_df_scale_pred_5_2.reshape(-1, 1), sc.labels_))\n",
    "    print(\"Calinski-Harabasz Index: \",calinski_harabasz_score(customer_reduce_pca_df_scale_pred_5_2.reshape(-1, 1), sc.labels_))\n",
    "    print(\"Davies-Bouldin Index: \", davies_bouldin_score(customer_reduce_pca_df_scale_pred_5_2.reshape(-1, 1), sc.labels_))\n",
    "print(\"Adjusted Rand Index:\" , adjusted_rand_score(customer_reduce_pca_df_scale_pred_5_2, sc.labels_))"
   ]
  },
  {
   "cell_type": "code",
   "execution_count": null,
   "id": "b1c2135d",
   "metadata": {},
   "outputs": [],
   "source": [
    "pca = PCA(n_components=2)\n",
    "data_pca = pca.fit_transform(customer_reduce_pca_df_scale)\n",
    "unique_labels = np.unique(sc.labels_)\n",
    "colors = plt.cm.get_cmap(\"tab10\", len(unique_labels))\n",
    "for label in unique_labels:\n",
    "    if label == -1:\n",
    "        color = \"black\"\n",
    "        marker = \"x\"\n",
    "        label_name = \"Noise\"\n",
    "    else:\n",
    "        color = colors(label)\n",
    "        marker = \"o\"\n",
    "        label_name = f\"Cluster {label}\"  \n",
    "    plt.scatter(data_pca[sc.labels_ == label, 0], data_pca[sc.labels_ == label, 1], \n",
    "                c=[color], marker=marker, label=label_name)\n",
    "centroids = np.array([data_pca[sc.labels_ == label].mean(axis=0) for label in unique_labels if label != -1])\n",
    "plt.scatter(centroids[:, 0], centroids[:, 1], marker='^', c='red', s=200, edgecolor='k', label='Centroids')\n",
    "plt.legend()\n",
    "plt.show()"
   ]
  },
  {
   "cell_type": "code",
   "execution_count": null,
   "id": "84c49bd1",
   "metadata": {
    "scrolled": false
   },
   "outputs": [],
   "source": [
    "plt.scatter(customer_reduce_pca_df_scale[:,0], customer_reduce_pca_df_scale[:,1], s=5, c=sc.labels_, label=\"n_cluster-\"+str(2))\n",
    "plt.legend()\n",
    "plt.show()"
   ]
  },
  {
   "cell_type": "code",
   "execution_count": null,
   "id": "830462d8",
   "metadata": {},
   "outputs": [],
   "source": [
    "silhouette_avg = silhouette_score(customer_reduce_pca_df_scale, sc.labels_)\n",
    "silhouette_values = silhouette_samples(customer_reduce_pca_df_scale, sc.labels_)\n",
    "fig, ax = plt.subplots(figsize=(10, 6))\n",
    "y_lower = 10\n",
    "for i in range(2):\n",
    "    ith_cluster_silhouette_values = silhouette_values[labels == i]\n",
    "    ith_cluster_silhouette_values.sort()\n",
    "    size_cluster_i = ith_cluster_silhouette_values.shape[0]\n",
    "    y_upper = y_lower + size_cluster_i\n",
    "    color = plt.cm.nipy_spectral(float(i) / 3)\n",
    "    ax.fill_betweenx(np.arange(y_lower, y_upper),0, ith_cluster_silhouette_values,facecolor=color, edgecolor=color, alpha=0.7)\n",
    "    ax.text(-0.05, y_lower + 0.5 * size_cluster_i, str(i))\n",
    "    y_lower = y_upper + 10\n",
    "ax.set_title(\"The silhouette plot for the various clusters.\")\n",
    "ax.set_xlabel(\"The silhouette coefficient values\")\n",
    "ax.set_ylabel(\"Cluster label\")\n",
    "ax.axvline(x=silhouette_avg, color=\"red\", linestyle=\"--\")\n",
    "plt.show()"
   ]
  },
  {
   "cell_type": "code",
   "execution_count": null,
   "id": "a2c3209c",
   "metadata": {},
   "outputs": [],
   "source": []
  }
 ],
 "metadata": {
  "kernelspec": {
   "display_name": "Python 3 (ipykernel)",
   "language": "python",
   "name": "python3"
  },
  "language_info": {
   "codemirror_mode": {
    "name": "ipython",
    "version": 3
   },
   "file_extension": ".py",
   "mimetype": "text/x-python",
   "name": "python",
   "nbconvert_exporter": "python",
   "pygments_lexer": "ipython3",
   "version": "3.9.13"
  }
 },
 "nbformat": 4,
 "nbformat_minor": 5
}

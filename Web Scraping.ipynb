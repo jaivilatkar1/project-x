{
 "cells": [
  {
   "cell_type": "code",
   "execution_count": 10,
   "id": "52cdf566",
   "metadata": {},
   "outputs": [],
   "source": [
    "import nest_asyncio\n",
    "import asyncio\n",
    "from playwright.async_api import async_playwright"
   ]
  },
  {
   "cell_type": "code",
   "execution_count": 11,
   "id": "101fda90",
   "metadata": {},
   "outputs": [],
   "source": [
    "nest_asyncio.apply()\n",
    "async def main():\n",
    "    async with async_playwright() as p:\n",
    "        browser=await p.chromium.launch(headless=False)\n",
    "        page=await browser.new_page()\n",
    "        await page.goto('https://quotes.toscrape.com/')\n",
    "        all_quotes=await page.query_selector_all(\".quote\")\n",
    "        for quote in all_quotes:\n",
    "            text=await quote.query_selector(\".text\").inner_text()\n",
    "            author=await quote.query_selector(\".author\").inner_text()\n",
    "            print({'Author': author, 'Quote': text})\n",
    "\n",
    "        await page.wait_for_timeout(10)\n",
    "        await browser.close()"
   ]
  },
  {
   "cell_type": "code",
   "execution_count": 13,
   "id": "69df96b5",
   "metadata": {},
   "outputs": [
    {
     "name": "stderr",
     "output_type": "stream",
     "text": [
      "C:\\Users\\jarvis\\anaconda3\\lib\\site-packages\\traitlets\\traitlets.py:229: RuntimeWarning: coroutine 'main' was never awaited\n",
      "  value = getattr(object, key)\n",
      "RuntimeWarning: Enable tracemalloc to get the object allocation traceback\n"
     ]
    },
    {
     "data": {
      "text/plain": [
       "<coroutine object main at 0x000001FC3D338740>"
      ]
     },
     "execution_count": 13,
     "metadata": {},
     "output_type": "execute_result"
    }
   ],
   "source": [
    "main()"
   ]
  },
  {
   "cell_type": "code",
   "execution_count": null,
   "id": "db1f1aca",
   "metadata": {},
   "outputs": [],
   "source": []
  }
 ],
 "metadata": {
  "kernelspec": {
   "display_name": "Python 3 (ipykernel)",
   "language": "python",
   "name": "python3"
  },
  "language_info": {
   "codemirror_mode": {
    "name": "ipython",
    "version": 3
   },
   "file_extension": ".py",
   "mimetype": "text/x-python",
   "name": "python",
   "nbconvert_exporter": "python",
   "pygments_lexer": "ipython3",
   "version": "3.9.13"
  }
 },
 "nbformat": 4,
 "nbformat_minor": 5
}

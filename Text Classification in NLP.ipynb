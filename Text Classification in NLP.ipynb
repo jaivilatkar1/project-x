{
 "cells": [
  {
   "cell_type": "markdown",
   "id": "284faf7f",
   "metadata": {},
   "source": [
    "# Import Libraries"
   ]
  },
  {
   "cell_type": "code",
   "execution_count": 70,
   "id": "b85bb6ad",
   "metadata": {},
   "outputs": [],
   "source": [
    "import pandas as pd\n",
    "import numpy as np\n",
    "import matplotlib.pyplot as plt\n",
    "import seaborn as sns\n",
    "from sklearn.impute import KNNImputer\n",
    "from scipy import stats\n",
    "from sklearn.preprocessing import PowerTransformer\n",
    "from sklearn.preprocessing import QuantileTransformer\n",
    "from sklearn.preprocessing import LabelEncoder\n",
    "from sklearn.preprocessing import OrdinalEncoder\n",
    "from sklearn.preprocessing import OneHotEncoder\n",
    "from sklearn.model_selection import train_test_split\n",
    "from sklearn.preprocessing import MinMaxScaler,StandardScaler\n",
    "import warnings\n",
    "warnings.filterwarnings('ignore')\n",
    "from sklearn.feature_selection import SelectKBest,f_classif,mutual_info_classif,VarianceThreshold,RFE,chi2,SequentialFeatureSelector\n",
    "from sklearn.linear_model import LogisticRegression\n",
    "from sklearn.metrics import mean_squared_error,r2_score,mean_absolute_error,accuracy_score,confusion_matrix,precision_score,recall_score,f1_score\n",
    "from sklearn.tree import DecisionTreeClassifier\n",
    "from sklearn.ensemble import RandomForestClassifier,GradientBoostingClassifier,AdaBoostClassifier\n",
    "from sklearn.svm import SVC\n",
    "from sklearn.impute import SimpleImputer, KNNImputer\n",
    "from imblearn.combine import SMOTETomek\n",
    "from imblearn.over_sampling import SMOTENC,SMOTE\n",
    "from xgboost import XGBClassifier\n",
    "from mlxtend.evaluate import bias_variance_decomp\n",
    "import gensim\n",
    "from gensim.models import Word2Vec,KeyedVectors\n",
    "from sklearn.naive_bayes import GaussianNB\n",
    "import re\n",
    "import nltk\n",
    "from nltk.corpus import stopwords\n",
    "import emoji\n",
    "from sklearn.feature_extraction.text import CountVectorizer\n",
    "from sklearn.feature_extraction.text import TfidfVectorizer"
   ]
  },
  {
   "cell_type": "markdown",
   "id": "0ebf5937",
   "metadata": {},
   "source": [
    "# Load Dataset"
   ]
  },
  {
   "cell_type": "code",
   "execution_count": 71,
   "id": "a38781f5",
   "metadata": {},
   "outputs": [
    {
     "data": {
      "text/html": [
       "<div>\n",
       "<style scoped>\n",
       "    .dataframe tbody tr th:only-of-type {\n",
       "        vertical-align: middle;\n",
       "    }\n",
       "\n",
       "    .dataframe tbody tr th {\n",
       "        vertical-align: top;\n",
       "    }\n",
       "\n",
       "    .dataframe thead th {\n",
       "        text-align: right;\n",
       "    }\n",
       "</style>\n",
       "<table border=\"1\" class=\"dataframe\">\n",
       "  <thead>\n",
       "    <tr style=\"text-align: right;\">\n",
       "      <th></th>\n",
       "      <th>review</th>\n",
       "      <th>sentiment</th>\n",
       "    </tr>\n",
       "  </thead>\n",
       "  <tbody>\n",
       "    <tr>\n",
       "      <th>0</th>\n",
       "      <td>One of the other reviewers has mentioned that ...</td>\n",
       "      <td>positive</td>\n",
       "    </tr>\n",
       "    <tr>\n",
       "      <th>1</th>\n",
       "      <td>A wonderful little production. &lt;br /&gt;&lt;br /&gt;The...</td>\n",
       "      <td>positive</td>\n",
       "    </tr>\n",
       "    <tr>\n",
       "      <th>2</th>\n",
       "      <td>I thought this was a wonderful way to spend ti...</td>\n",
       "      <td>positive</td>\n",
       "    </tr>\n",
       "    <tr>\n",
       "      <th>3</th>\n",
       "      <td>Basically there's a family where a little boy ...</td>\n",
       "      <td>negative</td>\n",
       "    </tr>\n",
       "    <tr>\n",
       "      <th>4</th>\n",
       "      <td>Petter Mattei's \"Love in the Time of Money\" is...</td>\n",
       "      <td>positive</td>\n",
       "    </tr>\n",
       "  </tbody>\n",
       "</table>\n",
       "</div>"
      ],
      "text/plain": [
       "                                              review sentiment\n",
       "0  One of the other reviewers has mentioned that ...  positive\n",
       "1  A wonderful little production. <br /><br />The...  positive\n",
       "2  I thought this was a wonderful way to spend ti...  positive\n",
       "3  Basically there's a family where a little boy ...  negative\n",
       "4  Petter Mattei's \"Love in the Time of Money\" is...  positive"
      ]
     },
     "execution_count": 71,
     "metadata": {},
     "output_type": "execute_result"
    }
   ],
   "source": [
    "temp_df = pd.read_csv('IMDB Dataset.csv')\n",
    "df = temp_df.iloc[:10000]\n",
    "df.head()"
   ]
  },
  {
   "cell_type": "markdown",
   "id": "e30baac1",
   "metadata": {},
   "source": [
    "# EDA"
   ]
  },
  {
   "cell_type": "markdown",
   "id": "47258f6a",
   "metadata": {},
   "source": [
    "### Duplicate Value Detection"
   ]
  },
  {
   "cell_type": "code",
   "execution_count": 3,
   "id": "e0023071",
   "metadata": {},
   "outputs": [
    {
     "data": {
      "text/plain": [
       "array([103], dtype=int64)"
      ]
     },
     "execution_count": 3,
     "metadata": {},
     "output_type": "execute_result"
    }
   ],
   "source": [
    "duplicate=df.duplicated().sum()\n",
    "duplicate[duplicate>0]"
   ]
  },
  {
   "cell_type": "markdown",
   "id": "c4b77b27",
   "metadata": {},
   "source": [
    "### Analysis"
   ]
  },
  {
   "cell_type": "code",
   "execution_count": 51,
   "id": "41f1df2f",
   "metadata": {},
   "outputs": [
    {
     "data": {
      "text/plain": [
       "<AxesSubplot:ylabel='sentiment'>"
      ]
     },
     "execution_count": 51,
     "metadata": {},
     "output_type": "execute_result"
    },
    {
     "data": {
      "image/png": "[encoded data removed]",
      "text/plain": [
       "<Figure size 640x480 with 1 Axes>"
      ]
     },
     "metadata": {},
     "output_type": "display_data"
    }
   ],
   "source": [
    "df['sentiment'].value_counts().plot.pie(autopct='%.2f')"
   ]
  },
  {
   "cell_type": "markdown",
   "id": "bb19dd9e",
   "metadata": {},
   "source": [
    "### Preprocessing"
   ]
  },
  {
   "cell_type": "code",
   "execution_count": 52,
   "id": "6658ae19",
   "metadata": {},
   "outputs": [],
   "source": [
    "def remove_tags(text):\n",
    "    x=re.compile(\"<.*?>\")\n",
    "    clean=x.sub('',text)\n",
    "    return clean"
   ]
  },
  {
   "cell_type": "code",
   "execution_count": 72,
   "id": "40b3f7a8",
   "metadata": {},
   "outputs": [
    {
     "data": {
      "text/plain": [
       "0    One of the other reviewers has mentioned that ...\n",
       "1    A wonderful little production. The filming tec...\n",
       "2    I thought this was a wonderful way to spend ti...\n",
       "3    Basically there's a family where a little boy ...\n",
       "4    Petter Mattei's \"Love in the Time of Money\" is...\n",
       "Name: review, dtype: object"
      ]
     },
     "execution_count": 72,
     "metadata": {},
     "output_type": "execute_result"
    }
   ],
   "source": [
    "df['review']=df['review'].apply(remove_tags)\n",
    "df.review.head()"
   ]
  },
  {
   "cell_type": "code",
   "execution_count": 73,
   "id": "e2eba03b",
   "metadata": {},
   "outputs": [
    {
     "data": {
      "text/html": [
       "<div>\n",
       "<style scoped>\n",
       "    .dataframe tbody tr th:only-of-type {\n",
       "        vertical-align: middle;\n",
       "    }\n",
       "\n",
       "    .dataframe tbody tr th {\n",
       "        vertical-align: top;\n",
       "    }\n",
       "\n",
       "    .dataframe thead th {\n",
       "        text-align: right;\n",
       "    }\n",
       "</style>\n",
       "<table border=\"1\" class=\"dataframe\">\n",
       "  <thead>\n",
       "    <tr style=\"text-align: right;\">\n",
       "      <th></th>\n",
       "      <th>review</th>\n",
       "      <th>sentiment</th>\n",
       "    </tr>\n",
       "  </thead>\n",
       "  <tbody>\n",
       "    <tr>\n",
       "      <th>0</th>\n",
       "      <td>one of the other reviewers has mentioned that ...</td>\n",
       "      <td>positive</td>\n",
       "    </tr>\n",
       "    <tr>\n",
       "      <th>1</th>\n",
       "      <td>a wonderful little production. the filming tec...</td>\n",
       "      <td>positive</td>\n",
       "    </tr>\n",
       "    <tr>\n",
       "      <th>2</th>\n",
       "      <td>i thought this was a wonderful way to spend ti...</td>\n",
       "      <td>positive</td>\n",
       "    </tr>\n",
       "    <tr>\n",
       "      <th>3</th>\n",
       "      <td>basically there's a family where a little boy ...</td>\n",
       "      <td>negative</td>\n",
       "    </tr>\n",
       "    <tr>\n",
       "      <th>4</th>\n",
       "      <td>petter mattei's \"love in the time of money\" is...</td>\n",
       "      <td>positive</td>\n",
       "    </tr>\n",
       "  </tbody>\n",
       "</table>\n",
       "</div>"
      ],
      "text/plain": [
       "                                              review sentiment\n",
       "0  one of the other reviewers has mentioned that ...  positive\n",
       "1  a wonderful little production. the filming tec...  positive\n",
       "2  i thought this was a wonderful way to spend ti...  positive\n",
       "3  basically there's a family where a little boy ...  negative\n",
       "4  petter mattei's \"love in the time of money\" is...  positive"
      ]
     },
     "execution_count": 73,
     "metadata": {},
     "output_type": "execute_result"
    }
   ],
   "source": [
    "df['review']=df['review'].apply(lambda x:x.lower())\n",
    "df.head()"
   ]
  },
  {
   "cell_type": "code",
   "execution_count": 55,
   "id": "799d1ecc",
   "metadata": {},
   "outputs": [],
   "source": [
    "def remove_puncs(text):\n",
    "    x=re.compile(r'[^\\w\\s]')\n",
    "    clean=x.sub('',text)\n",
    "    return clean"
   ]
  },
  {
   "cell_type": "code",
   "execution_count": 74,
   "id": "6ddab7ee",
   "metadata": {},
   "outputs": [
    {
     "data": {
      "text/plain": [
       "0    one of the other reviewers has mentioned that ...\n",
       "1    a wonderful little production the filming tech...\n",
       "2    i thought this was a wonderful way to spend ti...\n",
       "3    basically theres a family where a little boy j...\n",
       "4    petter matteis love in the time of money is a ...\n",
       "Name: review, dtype: object"
      ]
     },
     "execution_count": 74,
     "metadata": {},
     "output_type": "execute_result"
    }
   ],
   "source": [
    "df['review']=df['review'].apply(remove_puncs)\n",
    "df.review.head()"
   ]
  },
  {
   "cell_type": "code",
   "execution_count": 57,
   "id": "381b7ee4",
   "metadata": {},
   "outputs": [
    {
     "name": "stderr",
     "output_type": "stream",
     "text": [
      "[nltk_data] Downloading package stopwords to\n",
      "[nltk_data]     C:\\Users\\jarvis\\AppData\\Roaming\\nltk_data...\n",
      "[nltk_data]   Package stopwords is already up-to-date!\n"
     ]
    }
   ],
   "source": [
    "nltk.download('stopwords')\n",
    "def remove_stopwords(text):\n",
    "    l=[]\n",
    "    sw=stopwords.words('english')\n",
    "    for w in text.split():\n",
    "        if w not in sw:\n",
    "            l.append(w)\n",
    "    return \" \".join(l)"
   ]
  },
  {
   "cell_type": "code",
   "execution_count": 75,
   "id": "e20f725a",
   "metadata": {},
   "outputs": [],
   "source": [
    "df['review'] = df['review'].apply(remove_stopwords)"
   ]
  },
  {
   "cell_type": "code",
   "execution_count": 76,
   "id": "0f064502",
   "metadata": {},
   "outputs": [],
   "source": [
    "df['review'] = df['review'].apply(emoji.demojize)"
   ]
  },
  {
   "cell_type": "markdown",
   "id": "dfef07b9",
   "metadata": {},
   "source": [
    "# Feature Engineering"
   ]
  },
  {
   "cell_type": "markdown",
   "id": "db903e9e",
   "metadata": {},
   "source": [
    "### Duplicate Value Handling"
   ]
  },
  {
   "cell_type": "code",
   "execution_count": 77,
   "id": "cccdffef",
   "metadata": {},
   "outputs": [],
   "source": [
    "df.drop_duplicates(inplace=True)"
   ]
  },
  {
   "cell_type": "markdown",
   "id": "dbc75f7a",
   "metadata": {},
   "source": [
    "### Encoding"
   ]
  },
  {
   "cell_type": "code",
   "execution_count": 78,
   "id": "20c734d8",
   "metadata": {},
   "outputs": [],
   "source": [
    "le = LabelEncoder()\n",
    "df['sentiment'] = le.fit_transform(df['sentiment'])"
   ]
  },
  {
   "cell_type": "code",
   "execution_count": 79,
   "id": "78e03cea",
   "metadata": {},
   "outputs": [],
   "source": [
    "X = df.iloc[:,0:1]\n",
    "y = df['sentiment']"
   ]
  },
  {
   "cell_type": "markdown",
   "id": "f7873439",
   "metadata": {},
   "source": [
    "# Feature Selection"
   ]
  },
  {
   "cell_type": "code",
   "execution_count": 63,
   "id": "9b4b72ef",
   "metadata": {},
   "outputs": [
    {
     "data": {
      "text/plain": [
       "<9983x82573 sparse matrix of type '<class 'numpy.int64'>'\n",
       "\twith 994730 stored elements in Compressed Sparse Row format>"
      ]
     },
     "execution_count": 63,
     "metadata": {},
     "output_type": "execute_result"
    }
   ],
   "source": [
    "cv = CountVectorizer()\n",
    "X = cv.fit_transform(X['review'])\n",
    "X"
   ]
  },
  {
   "cell_type": "markdown",
   "id": "28471862",
   "metadata": {},
   "source": [
    "# Splitting"
   ]
  },
  {
   "cell_type": "code",
   "execution_count": 80,
   "id": "165e0feb",
   "metadata": {},
   "outputs": [],
   "source": [
    "X_train,X_test,y_train,y_test = train_test_split(X,y,test_size=0.2,random_state=42)"
   ]
  },
  {
   "cell_type": "code",
   "execution_count": 65,
   "id": "134e6bac",
   "metadata": {},
   "outputs": [],
   "source": [
    "X_train=X_train.toarray()\n",
    "X_test=X_test.toarray()"
   ]
  },
  {
   "cell_type": "markdown",
   "id": "2e10c6c2",
   "metadata": {},
   "source": [
    "# Model Training and Evaluation"
   ]
  },
  {
   "cell_type": "code",
   "execution_count": 66,
   "id": "11fec7ef",
   "metadata": {},
   "outputs": [
    {
     "data": {
      "text/plain": [
       "array([0, 0, 0, ..., 1, 0, 0])"
      ]
     },
     "execution_count": 66,
     "metadata": {},
     "output_type": "execute_result"
    }
   ],
   "source": [
    "gnb = GaussianNB()\n",
    "gnb.fit(X_train,y_train)\n",
    "y_test_pred_gnb = gnb.predict(X_test)\n",
    "y_test_pred_gnb"
   ]
  },
  {
   "cell_type": "code",
   "execution_count": 67,
   "id": "77d24996",
   "metadata": {},
   "outputs": [
    {
     "name": "stdout",
     "output_type": "stream",
     "text": [
      "Mean squared error:  0.37305958938407613\n",
      "Root mean squared error:  0.6107860422308913\n",
      "Accuracy for test set:  0.6269404106159239\n",
      "Precision for test set:  0.6498316498316499\n",
      "Recall for test set:  0.5721343873517787\n",
      "F1 score for test set:  0.6085128744088283\n",
      "Confusion matrix:  [[673 312]\n",
      " [433 579]]\n"
     ]
    }
   ],
   "source": [
    "print(\"Mean squared error: \",mean_squared_error(y_test,y_test_pred_gnb))\n",
    "print(\"Root mean squared error: \",mean_squared_error(y_test,y_test_pred_gnb)**(0.5))\n",
    "print(\"Accuracy for test set: \",accuracy_score(y_test,y_test_pred_gnb))\n",
    "print(\"Precision for test set: \",precision_score(y_test,y_test_pred_gnb))\n",
    "print(\"Recall for test set: \",recall_score(y_test,y_test_pred_gnb))\n",
    "print(\"F1 score for test set: \",f1_score(y_test,y_test_pred_gnb))\n",
    "print(\"Confusion matrix: \",confusion_matrix(y_test,y_test_pred_gnb))"
   ]
  },
  {
   "cell_type": "code",
   "execution_count": 68,
   "id": "2e4b6a59",
   "metadata": {},
   "outputs": [
    {
     "data": {
      "text/plain": [
       "array([0, 0, 1, ..., 1, 0, 0])"
      ]
     },
     "execution_count": 68,
     "metadata": {},
     "output_type": "execute_result"
    }
   ],
   "source": [
    "rf = RandomForestClassifier()\n",
    "rf.fit(X_train,y_train)\n",
    "y_test_pred_rf = rf.predict(X_test)\n",
    "y_test_pred_rf"
   ]
  },
  {
   "cell_type": "code",
   "execution_count": 69,
   "id": "cbe65131",
   "metadata": {},
   "outputs": [
    {
     "name": "stdout",
     "output_type": "stream",
     "text": [
      "Mean squared error:  0.15072608913370056\n",
      "Root mean squared error:  0.38823458003338723\n",
      "Accuracy for test set:  0.8492739108662994\n",
      "Precision for test set:  0.8544366899302094\n",
      "Recall for test set:  0.8468379446640316\n",
      "F1 score for test set:  0.850620347394541\n",
      "Confusion matrix:  [[839 146]\n",
      " [155 857]]\n"
     ]
    }
   ],
   "source": [
    "print(\"Mean squared error: \",mean_squared_error(y_test,y_test_pred_rf))\n",
    "print(\"Root mean squared error: \",mean_squared_error(y_test,y_test_pred_rf)**(0.5))\n",
    "print(\"Accuracy for test set: \",accuracy_score(y_test,y_test_pred_rf))\n",
    "print(\"Precision for test set: \",precision_score(y_test,y_test_pred_rf))\n",
    "print(\"Recall for test set: \",recall_score(y_test,y_test_pred_rf))\n",
    "print(\"F1 score for test set: \",f1_score(y_test,y_test_pred_rf))\n",
    "print(\"Confusion matrix: \",confusion_matrix(y_test,y_test_pred_rf))"
   ]
  },
  {
   "cell_type": "code",
   "execution_count": 81,
   "id": "babfe022",
   "metadata": {},
   "outputs": [],
   "source": [
    "tfidf = TfidfVectorizer()"
   ]
  },
  {
   "cell_type": "code",
   "execution_count": 82,
   "id": "d4dfe1ee",
   "metadata": {},
   "outputs": [],
   "source": [
    "X_train_tfidf = tfidf.fit_transform(X_train['review']).toarray()\n",
    "X_test_tfidf = tfidf.transform(X_test['review'])"
   ]
  },
  {
   "cell_type": "code",
   "execution_count": 84,
   "id": "2fa6dc32",
   "metadata": {},
   "outputs": [
    {
     "data": {
      "text/plain": [
       "array([0, 0, 0, ..., 1, 0, 0])"
      ]
     },
     "execution_count": 84,
     "metadata": {},
     "output_type": "execute_result"
    }
   ],
   "source": [
    "gnb = GaussianNB()\n",
    "gnb.fit(X_train_tfidf,y_train)\n",
    "y_test_pred_gnb = gnb.predict(X_test_tfidf.toarray())\n",
    "y_test_pred_gnb"
   ]
  },
  {
   "cell_type": "code",
   "execution_count": 85,
   "id": "ef27f444",
   "metadata": {},
   "outputs": [
    {
     "name": "stdout",
     "output_type": "stream",
     "text": [
      "Mean squared error:  0.3780671006509765\n",
      "Root mean squared error:  0.6148716131445462\n",
      "Accuracy for test set:  0.6219328993490235\n",
      "Precision for test set:  0.6278606965174129\n",
      "Recall for test set:  0.6235177865612648\n",
      "F1 score for test set:  0.6256817055032226\n",
      "Confusion matrix:  [[611 374]\n",
      " [381 631]]\n"
     ]
    }
   ],
   "source": [
    "print(\"Mean squared error: \",mean_squared_error(y_test,y_test_pred_gnb))\n",
    "print(\"Root mean squared error: \",mean_squared_error(y_test,y_test_pred_gnb)**(0.5))\n",
    "print(\"Accuracy for test set: \",accuracy_score(y_test,y_test_pred_gnb))\n",
    "print(\"Precision for test set: \",precision_score(y_test,y_test_pred_gnb))\n",
    "print(\"Recall for test set: \",recall_score(y_test,y_test_pred_gnb))\n",
    "print(\"F1 score for test set: \",f1_score(y_test,y_test_pred_gnb))\n",
    "print(\"Confusion matrix: \",confusion_matrix(y_test,y_test_pred_gnb))"
   ]
  },
  {
   "cell_type": "code",
   "execution_count": 86,
   "id": "ee7c95df",
   "metadata": {},
   "outputs": [
    {
     "data": {
      "text/plain": [
       "array([0, 0, 1, ..., 1, 0, 0])"
      ]
     },
     "execution_count": 86,
     "metadata": {},
     "output_type": "execute_result"
    }
   ],
   "source": [
    "rf = RandomForestClassifier()\n",
    "rf.fit(X_train_tfidf,y_train)\n",
    "y_test_pred_rf = rf.predict(X_test_tfidf.toarray())\n",
    "y_test_pred_rf"
   ]
  },
  {
   "cell_type": "code",
   "execution_count": 87,
   "id": "ff91ebc5",
   "metadata": {},
   "outputs": [
    {
     "name": "stdout",
     "output_type": "stream",
     "text": [
      "Mean squared error:  0.14822233350025038\n",
      "Root mean squared error:  0.38499653699773767\n",
      "Accuracy for test set:  0.8517776664997496\n",
      "Precision for test set:  0.8623481781376519\n",
      "Recall for test set:  0.841897233201581\n",
      "F1 score for test set:  0.8520000000000001\n",
      "Confusion matrix:  [[849 136]\n",
      " [160 852]]\n"
     ]
    }
   ],
   "source": [
    "print(\"Mean squared error: \",mean_squared_error(y_test,y_test_pred_rf))\n",
    "print(\"Root mean squared error: \",mean_squared_error(y_test,y_test_pred_rf)**(0.5))\n",
    "print(\"Accuracy for test set: \",accuracy_score(y_test,y_test_pred_rf))\n",
    "print(\"Precision for test set: \",precision_score(y_test,y_test_pred_rf))\n",
    "print(\"Recall for test set: \",recall_score(y_test,y_test_pred_rf))\n",
    "print(\"F1 score for test set: \",f1_score(y_test,y_test_pred_rf))\n",
    "print(\"Confusion matrix: \",confusion_matrix(y_test,y_test_pred_rf))"
   ]
  },
  {
   "cell_type": "code",
   "execution_count": null,
   "id": "7bf279d9",
   "metadata": {},
   "outputs": [],
   "source": []
  }
 ],
 "metadata": {
  "kernelspec": {
   "display_name": "Python 3 (ipykernel)",
   "language": "python",
   "name": "python3"
  },
  "language_info": {
   "codemirror_mode": {
    "name": "ipython",
    "version": 3
   },
   "file_extension": ".py",
   "mimetype": "text/x-python",
   "name": "python",
   "nbconvert_exporter": "python",
   "pygments_lexer": "ipython3",
   "version": "3.9.13"
  }
 },
 "nbformat": 4,
 "nbformat_minor": 5
}

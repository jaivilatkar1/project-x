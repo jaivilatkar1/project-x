{
 "cells": [
  {
   "cell_type": "code",
   "execution_count": 2,
   "metadata": {},
   "outputs": [
    {
     "name": "stderr",
     "output_type": "stream",
     "text": [
      "Fetching 8 files: 100%|██████████| 8/8 [00:00<?, ?it/s]\n"
     ]
    },
    {
     "data": {
      "text/plain": [
       "'C:\\\\Users\\\\jarvis\\\\Desktop\\\\JARVIS Jr ML Engineer\\\\Gemini\\\\original_model'"
      ]
     },
     "execution_count": 2,
     "metadata": {},
     "output_type": "execute_result"
    }
   ],
   "source": [
    "from huggingface_hub import snapshot_download\n",
    "model_id=\"Jai-V/fine_tuned_model_mistral_test\"\n",
    "base_model = r\"C:/Users/jarvis/Desktop/JARVIS Jr ML Engineer/Gemini/original_model/\"\n",
    "snapshot_download(repo_id=model_id, local_dir=base_model,\n",
    "                  local_dir_use_symlinks=False, revision=\"main\")"
   ]
  },
  {
   "cell_type": "code",
   "execution_count": 3,
   "metadata": {},
   "outputs": [
    {
     "name": "stdout",
     "output_type": "stream",
     "text": [
      "Looking in indexes: https://pypi.org/simple, https://download.pytorch.org/whl/cpu, https://download.pytorch.org/whl/cpu, https://download.pytorch.org/whl/cpu, https://download.pytorch.org/whl/cpu\n",
      "Requirement already satisfied: numpy~=1.26.4 in c:\\users\\jarvis\\desktop\\jarvis jr ml engineer\\gemini\\myenv\\lib\\site-packages (from -r llama.cpp-master\\./requirements/requirements-convert_legacy_llama.txt (line 1)) (1.26.4)\n",
      "Requirement already satisfied: sentencepiece~=0.2.0 in c:\\users\\jarvis\\desktop\\jarvis jr ml engineer\\gemini\\myenv\\lib\\site-packages (from -r llama.cpp-master\\./requirements/requirements-convert_legacy_llama.txt (line 2)) (0.2.0)\n",
      "Requirement already satisfied: transformers<5.0.0,>=4.45.1 in c:\\users\\jarvis\\desktop\\jarvis jr ml engineer\\gemini\\myenv\\lib\\site-packages (from -r llama.cpp-master\\./requirements/requirements-convert_legacy_llama.txt (line 3)) (4.46.3)\n",
      "Requirement already satisfied: gguf>=0.1.0 in c:\\users\\jarvis\\desktop\\jarvis jr ml engineer\\gemini\\myenv\\lib\\site-packages (from -r llama.cpp-master\\./requirements/requirements-convert_legacy_llama.txt (line 4)) (0.10.0)\n",
      "Requirement already satisfied: protobuf<5.0.0,>=4.21.0 in c:\\users\\jarvis\\desktop\\jarvis jr ml engineer\\gemini\\myenv\\lib\\site-packages (from -r llama.cpp-master\\./requirements/requirements-convert_legacy_llama.txt (line 5)) (4.25.5)\n",
      "Requirement already satisfied: torch~=2.2.1 in c:\\users\\jarvis\\desktop\\jarvis jr ml engineer\\gemini\\myenv\\lib\\site-packages (from -r llama.cpp-master\\./requirements/requirements-convert_hf_to_gguf.txt (line 3)) (2.2.2+cpu)\n",
      "Requirement already satisfied: filelock in c:\\users\\jarvis\\desktop\\jarvis jr ml engineer\\gemini\\myenv\\lib\\site-packages (from transformers<5.0.0,>=4.45.1->-r llama.cpp-master\\./requirements/requirements-convert_legacy_llama.txt (line 3)) (3.16.1)\n",
      "Requirement already satisfied: huggingface-hub<1.0,>=0.23.2 in c:\\users\\jarvis\\desktop\\jarvis jr ml engineer\\gemini\\myenv\\lib\\site-packages (from transformers<5.0.0,>=4.45.1->-r llama.cpp-master\\./requirements/requirements-convert_legacy_llama.txt (line 3)) (0.26.3)\n",
      "Requirement already satisfied: packaging>=20.0 in c:\\users\\jarvis\\desktop\\jarvis jr ml engineer\\gemini\\myenv\\lib\\site-packages (from transformers<5.0.0,>=4.45.1->-r llama.cpp-master\\./requirements/requirements-convert_legacy_llama.txt (line 3)) (24.2)\n",
      "Requirement already satisfied: pyyaml>=5.1 in c:\\users\\jarvis\\desktop\\jarvis jr ml engineer\\gemini\\myenv\\lib\\site-packages (from transformers<5.0.0,>=4.45.1->-r llama.cpp-master\\./requirements/requirements-convert_legacy_llama.txt (line 3)) (6.0.2)\n",
      "Requirement already satisfied: regex!=2019.12.17 in c:\\users\\jarvis\\desktop\\jarvis jr ml engineer\\gemini\\myenv\\lib\\site-packages (from transformers<5.0.0,>=4.45.1->-r llama.cpp-master\\./requirements/requirements-convert_legacy_llama.txt (line 3)) (2024.11.6)\n",
      "Requirement already satisfied: requests in c:\\users\\jarvis\\desktop\\jarvis jr ml engineer\\gemini\\myenv\\lib\\site-packages (from transformers<5.0.0,>=4.45.1->-r llama.cpp-master\\./requirements/requirements-convert_legacy_llama.txt (line 3)) (2.32.3)\n",
      "Requirement already satisfied: tokenizers<0.21,>=0.20 in c:\\users\\jarvis\\desktop\\jarvis jr ml engineer\\gemini\\myenv\\lib\\site-packages (from transformers<5.0.0,>=4.45.1->-r llama.cpp-master\\./requirements/requirements-convert_legacy_llama.txt (line 3)) (0.20.3)\n",
      "Requirement already satisfied: safetensors>=0.4.1 in c:\\users\\jarvis\\desktop\\jarvis jr ml engineer\\gemini\\myenv\\lib\\site-packages (from transformers<5.0.0,>=4.45.1->-r llama.cpp-master\\./requirements/requirements-convert_legacy_llama.txt (line 3)) (0.4.5)\n",
      "Requirement already satisfied: tqdm>=4.27 in c:\\users\\jarvis\\desktop\\jarvis jr ml engineer\\gemini\\myenv\\lib\\site-packages (from transformers<5.0.0,>=4.45.1->-r llama.cpp-master\\./requirements/requirements-convert_legacy_llama.txt (line 3)) (4.67.1)\n",
      "Requirement already satisfied: typing-extensions>=4.8.0 in c:\\users\\jarvis\\desktop\\jarvis jr ml engineer\\gemini\\myenv\\lib\\site-packages (from torch~=2.2.1->-r llama.cpp-master\\./requirements/requirements-convert_hf_to_gguf.txt (line 3)) (4.12.2)\n",
      "Requirement already satisfied: sympy in c:\\users\\jarvis\\desktop\\jarvis jr ml engineer\\gemini\\myenv\\lib\\site-packages (from torch~=2.2.1->-r llama.cpp-master\\./requirements/requirements-convert_hf_to_gguf.txt (line 3)) (1.13.3)\n",
      "Requirement already satisfied: networkx in c:\\users\\jarvis\\desktop\\jarvis jr ml engineer\\gemini\\myenv\\lib\\site-packages (from torch~=2.2.1->-r llama.cpp-master\\./requirements/requirements-convert_hf_to_gguf.txt (line 3)) (3.4.2)\n",
      "Requirement already satisfied: jinja2 in c:\\users\\jarvis\\desktop\\jarvis jr ml engineer\\gemini\\myenv\\lib\\site-packages (from torch~=2.2.1->-r llama.cpp-master\\./requirements/requirements-convert_hf_to_gguf.txt (line 3)) (3.1.4)\n",
      "Requirement already satisfied: fsspec in c:\\users\\jarvis\\desktop\\jarvis jr ml engineer\\gemini\\myenv\\lib\\site-packages (from torch~=2.2.1->-r llama.cpp-master\\./requirements/requirements-convert_hf_to_gguf.txt (line 3)) (2024.10.0)\n",
      "Requirement already satisfied: colorama in c:\\users\\jarvis\\desktop\\jarvis jr ml engineer\\gemini\\myenv\\lib\\site-packages (from tqdm>=4.27->transformers<5.0.0,>=4.45.1->-r llama.cpp-master\\./requirements/requirements-convert_legacy_llama.txt (line 3)) (0.4.6)\n",
      "Requirement already satisfied: MarkupSafe>=2.0 in c:\\users\\jarvis\\desktop\\jarvis jr ml engineer\\gemini\\myenv\\lib\\site-packages (from jinja2->torch~=2.2.1->-r llama.cpp-master\\./requirements/requirements-convert_hf_to_gguf.txt (line 3)) (3.0.2)\n",
      "Requirement already satisfied: charset-normalizer<4,>=2 in c:\\users\\jarvis\\desktop\\jarvis jr ml engineer\\gemini\\myenv\\lib\\site-packages (from requests->transformers<5.0.0,>=4.45.1->-r llama.cpp-master\\./requirements/requirements-convert_legacy_llama.txt (line 3)) (3.4.0)\n",
      "Requirement already satisfied: idna<4,>=2.5 in c:\\users\\jarvis\\desktop\\jarvis jr ml engineer\\gemini\\myenv\\lib\\site-packages (from requests->transformers<5.0.0,>=4.45.1->-r llama.cpp-master\\./requirements/requirements-convert_legacy_llama.txt (line 3)) (3.10)\n",
      "Requirement already satisfied: urllib3<3,>=1.21.1 in c:\\users\\jarvis\\desktop\\jarvis jr ml engineer\\gemini\\myenv\\lib\\site-packages (from requests->transformers<5.0.0,>=4.45.1->-r llama.cpp-master\\./requirements/requirements-convert_legacy_llama.txt (line 3)) (2.2.3)\n",
      "Requirement already satisfied: certifi>=2017.4.17 in c:\\users\\jarvis\\desktop\\jarvis jr ml engineer\\gemini\\myenv\\lib\\site-packages (from requests->transformers<5.0.0,>=4.45.1->-r llama.cpp-master\\./requirements/requirements-convert_legacy_llama.txt (line 3)) (2024.8.30)\n",
      "Requirement already satisfied: mpmath<1.4,>=1.1.0 in c:\\users\\jarvis\\desktop\\jarvis jr ml engineer\\gemini\\myenv\\lib\\site-packages (from sympy->torch~=2.2.1->-r llama.cpp-master\\./requirements/requirements-convert_hf_to_gguf.txt (line 3)) (1.3.0)\n"
     ]
    },
    {
     "name": "stderr",
     "output_type": "stream",
     "text": [
      "\n",
      "[notice] A new release of pip is available: 24.2 -> 24.3.1\n",
      "[notice] To update, run: python.exe -m pip install --upgrade pip\n"
     ]
    }
   ],
   "source": [
    "!pip install -r llama.cpp-master/requirements.txt"
   ]
  },
  {
   "cell_type": "code",
   "execution_count": 4,
   "metadata": {},
   "outputs": [
    {
     "name": "stderr",
     "output_type": "stream",
     "text": [
      "INFO:hf-to-gguf:Loading model: original_model\n",
      "Traceback (most recent call last):\n",
      "  File \"c:\\Users\\jarvis\\Desktop\\JARVIS Jr ML Engineer\\Gemini\\llama.cpp-master\\convert_hf_to_gguf.py\", line 4447, in <module>\n",
      "    main()\n",
      "  File \"c:\\Users\\jarvis\\Desktop\\JARVIS Jr ML Engineer\\Gemini\\llama.cpp-master\\convert_hf_to_gguf.py\", line 4415, in main\n",
      "    hparams = Model.load_hparams(dir_model)\n",
      "              ^^^^^^^^^^^^^^^^^^^^^^^^^^^^^\n",
      "  File \"c:\\Users\\jarvis\\Desktop\\JARVIS Jr ML Engineer\\Gemini\\llama.cpp-master\\convert_hf_to_gguf.py\", line 463, in load_hparams\n",
      "    with open(dir_model / \"config.json\", \"r\", encoding=\"utf-8\") as f:\n",
      "         ^^^^^^^^^^^^^^^^^^^^^^^^^^^^^^^^^^^^^^^^^^^^^^^^^^^^^^\n",
      "FileNotFoundError: [Errno 2] No such file or directory: 'original_model\\\\config.json'\n"
     ]
    }
   ],
   "source": [
    "!python llama.cpp-master/convert_hf_to_gguf.py original_model --outfile mistral.gguf --outtype q8_0"
   ]
  },
  {
   "cell_type": "code",
   "execution_count": null,
   "metadata": {},
   "outputs": [],
   "source": []
  }
 ],
 "metadata": {
  "kernelspec": {
   "display_name": "myenv",
   "language": "python",
   "name": "python3"
  },
  "language_info": {
   "codemirror_mode": {
    "name": "ipython",
    "version": 3
   },
   "file_extension": ".py",
   "mimetype": "text/x-python",
   "name": "python",
   "nbconvert_exporter": "python",
   "pygments_lexer": "ipython3",
   "version": "3.12.6"
  }
 },
 "nbformat": 4,
 "nbformat_minor": 2
}
